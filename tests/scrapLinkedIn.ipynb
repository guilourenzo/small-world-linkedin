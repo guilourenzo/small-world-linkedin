{
 "cells": [
  {
   "cell_type": "markdown",
   "metadata": {},
   "source": [
    "# IMPORTA BIBLIOTECAS"
   ]
  },
  {
   "cell_type": "code",
   "execution_count": 54,
   "metadata": {},
   "outputs": [],
   "source": [
    "import time\n",
    "import json\n",
    "import pandas as pd\n",
    "import numpy as np\n",
    "from datetime import datetime\n",
    "\n",
    "from selenium import webdriver\n",
    "from selenium.webdriver.common.by import By\n",
    "from selenium.webdriver.common.keys import Keys\n",
    "from selenium.webdriver.chrome.service import Service\n",
    "from selenium.webdriver.chrome.options import Options\n",
    "from selenium.webdriver.support.ui import WebDriverWait\n",
    "from selenium.webdriver.support import expected_conditions as EC\n",
    "from selenium.common.exceptions import TimeoutException, NoSuchElementException\n",
    "\n",
    "\n",
    "from webdriver_manager.chrome import ChromeDriverManager\n",
    "from dotenv import load_dotenv\n",
    "import os"
   ]
  },
  {
   "cell_type": "code",
   "execution_count": 2,
   "metadata": {},
   "outputs": [],
   "source": [
    "# Carregar credenciais do arquivo .env\n",
    "load_dotenv()\n",
    "LINKEDIN_EMAIL = os.getenv(\"LINKEDIN_EMAIL\")\n",
    "LINKEDIN_PASSWORD = os.getenv(\"LINKEDIN_PASSWORD\")"
   ]
  },
  {
   "cell_type": "markdown",
   "metadata": {},
   "source": [
    "# CONFIGURAÇÃO DO AMBIENTE"
   ]
  },
  {
   "cell_type": "code",
   "execution_count": 3,
   "metadata": {},
   "outputs": [],
   "source": [
    "# Configuração do Selenium\n",
    "def setup_driver():\n",
    "    options = Options()\n",
    "    options.add_argument(\"--start-maximized\")\n",
    "    options.add_argument(\"--disable-notifications\")\n",
    "    service = Service(ChromeDriverManager().install())\n",
    "    driver = webdriver.Chrome(service=service, options=options)\n",
    "    return driver"
   ]
  },
  {
   "cell_type": "code",
   "execution_count": 4,
   "metadata": {},
   "outputs": [],
   "source": [
    "# Autenticar no LinkedIn\n",
    "def linkedin_login(driver):\n",
    "    driver.get(\"https://www.linkedin.com/login\")\n",
    "    time.sleep(2)\n",
    "\n",
    "    email_field = driver.find_element(By.ID, \"username\")\n",
    "    password_field = driver.find_element(By.ID, \"password\")\n",
    "\n",
    "    email_field.send_keys(LINKEDIN_EMAIL)\n",
    "    password_field.send_keys(LINKEDIN_PASSWORD)\n",
    "    password_field.send_keys(\"\\ue007\")  # Pressionar Enter\n",
    "    time.sleep(3)\n"
   ]
  },
  {
   "cell_type": "code",
   "execution_count": 5,
   "metadata": {},
   "outputs": [],
   "source": [
    "# Adicionar rolagem na página\n",
    "def scroll_down(driver):\n",
    "    driver.execute_script(\"window.scrollBy(0, 300);\")\n",
    "    time.sleep(0.5)  # Esperar um pouco para que novos elementos sejam carregados"
   ]
  },
  {
   "cell_type": "markdown",
   "metadata": {},
   "source": [
    "# PROCESSO DO SCRAPING"
   ]
  },
  {
   "cell_type": "code",
   "execution_count": 6,
   "metadata": {},
   "outputs": [],
   "source": [
    "# Extrair conexões\n",
    "def extract_connections(driver, profile_url):\n",
    "    driver.get(profile_url)\n",
    "    time.sleep(3)\n",
    "\n",
    "    extracted_data = {}\n",
    "\n",
    "    try:\n",
    "        # Clicar no link de conexões\n",
    "        WebDriverWait(driver, 10).until(\n",
    "            EC.element_to_be_clickable(\n",
    "                (\n",
    "                    By.CLASS_NAME,\n",
    "                    \"jBoWjCkDnQAudKFlfzuYKZdcceDKXE.inline-flex.align-items-center.link-without-hover-visited.pt2\",\n",
    "                )\n",
    "            )\n",
    "        ).click()\n",
    "        time.sleep(2)\n",
    "\n",
    "        # Inicializar a lista de nomes extraídos\n",
    "        names = []\n",
    "\n",
    "        while True:\n",
    "            # Extração dos nomes na página atual\n",
    "            name_elements = driver.find_elements(\n",
    "                By.CLASS_NAME,\n",
    "                \"sVERDkcTlYPzPQlJOoKTEBiRQdqFMDVxijI.KSOPGGTUwpqguKseMcspzYpZImxdaDTs \",\n",
    "            )\n",
    "            # print([name.text.split('\\n')[0] for name in name_elements if name.text])\n",
    "            names.extend(\n",
    "                [name.text.split(\"\\n\")[0] for name in name_elements if name.text]\n",
    "            )\n",
    "\n",
    "            # Tentar ir para a próxima página\n",
    "            try:\n",
    "                scroll_down(driver)\n",
    "                next_button = driver.find_element(\n",
    "                    By.XPATH, \"//button[@aria-label='Avançar']\"\n",
    "                )\n",
    "                if \"disabled\" in next_button.get_attribute(\"class\"):\n",
    "                    break  # Botão de próximo desabilitado, última página\n",
    "                next_button.click()\n",
    "                time.sleep(2)\n",
    "            except NoSuchElementException:\n",
    "                break  # Botão de próximo não encontrado, última página\n",
    "\n",
    "        # Adicionar ao dicionário de dados extraídos\n",
    "        extracted_data[profile_url] = names\n",
    "        print(\n",
    "            f\"Conexões extraídas para {profile_url}: {len(names)} conexões encontradas.\"\n",
    "        )\n",
    "\n",
    "    except Exception as e:\n",
    "        print(f\"Erro ao acessar {profile_url}: {e}\")\n",
    "\n",
    "    return extracted_data"
   ]
  },
  {
   "cell_type": "markdown",
   "metadata": {},
   "source": [
    "# CONSTRUÇÃO DO GRAFO"
   ]
  },
  {
   "cell_type": "code",
   "execution_count": 7,
   "metadata": {},
   "outputs": [],
   "source": [
    "# Iterar pelas conexões e salvar resultados em JSON\n",
    "def process_connections(file_path, output_path, driver):\n",
    "    connections_df = pd.read_csv(file_path, sep=\";\")\n",
    "    total = connections_df.shape[0]\n",
    "\n",
    "    try:\n",
    "        with open(output_path, \"r\", encoding=\"utf-8\") as json_file:\n",
    "            all_data = json.load(json_file)\n",
    "    except (FileNotFoundError, json.JSONDecodeError):\n",
    "        all_data = {}\n",
    "    \n",
    "\n",
    "    for index, row in connections_df.iterrows():\n",
    "        profile_url = row[\"URL\"]\n",
    "        # Ignorar perfis já processados\n",
    "        if profile_url in all_data:\n",
    "            print(f\"Perfil já processado: {row['First Name']} {row['Last Name']} => {profile_url}. Ignorando...\")\n",
    "            continue\n",
    "\n",
    "        print(f\"Processando {index + 1}/{total}: {row['First Name']} {row['Last Name']} => {profile_url} ==> {datetime.now()}\")\n",
    "\n",
    "        data = extract_connections(driver, profile_url)\n",
    "        all_data.update(data)\n",
    "\n",
    "        # Salvar os dados extraídos em um arquivo JSON\n",
    "        with open(output_path, \"w\", encoding=\"utf-8\") as json_file:\n",
    "            json.dump(all_data, json_file, ensure_ascii=False, indent=4)\n",
    "\n",
    "    print(f\"Dados salvos em {output_path}\")\n",
    "    return all_data"
   ]
  },
  {
   "cell_type": "markdown",
   "metadata": {},
   "source": [
    "# DEFINIÇÃO DO PIPELINE"
   ]
  },
  {
   "cell_type": "code",
   "execution_count": 8,
   "metadata": {},
   "outputs": [],
   "source": [
    "# Pipeline principal\n",
    "def run_pipeline(file_path, output_path):\n",
    "    # Configurações de entrada e saída\n",
    "    # file_path = \"Connections.csv\"  # Substitua pelo caminho correto\n",
    "    # output_path = \"extracted_connections.json\"  # Nome do arquivo de saída\n",
    "\n",
    "    print(f\"Processo Iniciado ==> {datetime.now()}\")\n",
    "    print(50 * \"==\")\n",
    "\n",
    "    # Configuração do Selenium\n",
    "    driver = setup_driver()\n",
    "    print(f\"Driver Configurado ==> {datetime.now()}\")\n",
    "    print(50 * \"==\")\n",
    "\n",
    "    # Login no LinkedIn\n",
    "    linkedin_login(driver)\n",
    "    print(f\"Login Realizado ==> {datetime.now()}\")\n",
    "    print(50 * \"==\")\n",
    "\n",
    "    # Processar conexões e salvar dados\n",
    "    all_data = process_connections(file_path, output_path, driver)\n",
    "    print(50 * \"==\")\n",
    "    \n",
    "    print(f\"Finalizado Processamento ==> {datetime.now()}\")\n",
    "    # Fechar o navegador\n",
    "    driver.quit()\n",
    "\n",
    "    return all_data"
   ]
  },
  {
   "cell_type": "markdown",
   "metadata": {},
   "source": [
    "# EXECUÇÃO DO PROCESSO"
   ]
  },
  {
   "cell_type": "code",
   "execution_count": 9,
   "metadata": {},
   "outputs": [],
   "source": [
    "# Executar no Jupyter Notebook\n",
    "file_path = (\n",
    "    \"..\\small_world_linkedin\\data\\linkedin_urls.csv\"  # Substitua pelo caminho correto\n",
    ")\n",
    "output_path = (\n",
    "    \"..\\small_world_linkedin\\data\\linkedin_graph.json\"  # Nome do arquivo de saída\n",
    ")"
   ]
  },
  {
   "cell_type": "code",
   "execution_count": null,
   "metadata": {},
   "outputs": [],
   "source": [
    "all_data = run_pipeline(file_path, output_path)"
   ]
  },
  {
   "cell_type": "markdown",
   "metadata": {},
   "source": [
    "# TESTES DE UNIFICAÇÂO"
   ]
  },
  {
   "cell_type": "code",
   "execution_count": 51,
   "metadata": {},
   "outputs": [],
   "source": [
    "import networkx as nx\n",
    "from pyvis.network import Network\n",
    "import matplotlib.pyplot as plt\n",
    "import plotly.graph_objects as go\n",
    "from scipy.stats import powerlaw, kstest"
   ]
  },
  {
   "cell_type": "markdown",
   "metadata": {},
   "source": [
    "## PROCESS DATA"
   ]
  },
  {
   "cell_type": "code",
   "execution_count": 83,
   "metadata": {},
   "outputs": [],
   "source": [
    "def process_data(json_file, csv_file):\n",
    "    # Carregar JSON\n",
    "    with open(json_file, 'r', encoding='utf-8') as file:\n",
    "        json_data = json.load(file)\n",
    "    \n",
    "    # Carregar CSV\n",
    "    csv_data = pd.read_csv(csv_file, sep=';')\n",
    "    csv_data['Connected On'] = pd.to_datetime(csv_data['Connected On'], dayfirst=True)\n",
    "    csv_data['Days Connected'] = (datetime.now() - csv_data['Connected On']).dt.days\n",
    "    \n",
    "    # Criar um DataFrame para os relacionamentos do JSON\n",
    "    relationships = []\n",
    "    for url, names in json_data.items():\n",
    "        for name in names:\n",
    "            relationships.append({\"URL\": url, \"Connection Name\": name})\n",
    "    \n",
    "    json_df = pd.DataFrame(relationships)\n",
    "    \n",
    "    # Mesclar os dois DataFrames usando o campo \"URL\"\n",
    "    combined_df = pd.merge(csv_data, json_df, on=\"URL\", how=\"inner\")\n",
    "    \n",
    "    return combined_df\n"
   ]
  },
  {
   "cell_type": "markdown",
   "metadata": {},
   "source": [
    "## CREATE GRAPH"
   ]
  },
  {
   "cell_type": "code",
   "execution_count": 33,
   "metadata": {},
   "outputs": [],
   "source": [
    "# Função para criar e exibir o grafo\n",
    "def create_graph(dataframe):\n",
    "    # Criar o grafo\n",
    "    graph = nx.Graph()\n",
    "    \n",
    "    # Adicionar nós e arestas no grafo\n",
    "    for _, row in dataframe.iterrows():\n",
    "        # Nó principal (do CSV)\n",
    "        main_node = f'{row[\"First Name\"]} {row[\"Last Name\"]}'\n",
    "        graph.add_node(main_node, \n",
    "                       title=f'Company: {row[\"Company\"]}, Position: {row[\"Position\"]}, Days Connected: {row[\"Days Connected\"]}',\n",
    "                       group=\"Main\")\n",
    "        \n",
    "        # Nós de conexão (do JSON)\n",
    "        connection_node = row[\"Connection Name\"]\n",
    "        graph.add_node(connection_node, group=\"Connection\")\n",
    "        \n",
    "        # Aresta entre o nó principal e o nó de conexão\n",
    "        graph.add_edge(main_node, connection_node)\n",
    "    \n",
    "    # Configurar visualização com pyvis\n",
    "    net = Network(notebook=True, height=\"750px\", width=\"100%\", bgcolor=\"#222222\", font_color=\"white\")\n",
    "    net.from_nx(graph)\n",
    "    net.show_buttons(filter_=['physics'])\n",
    "    net.show(\"connections_graph.html\")\n",
    "    return graph"
   ]
  },
  {
   "cell_type": "markdown",
   "metadata": {},
   "source": [
    "## MEASURE GRAPH"
   ]
  },
  {
   "cell_type": "code",
   "execution_count": 93,
   "metadata": {},
   "outputs": [],
   "source": [
    "# Step 4: Analyze the graph\n",
    "def analyze_graph(G):\n",
    "    clustering_coefficient = nx.average_clustering(G)\n",
    "    average_path_length = nx.average_shortest_path_length(G) if nx.is_connected(G) else None\n",
    "    return clustering_coefficient, average_path_length"
   ]
  },
  {
   "cell_type": "code",
   "execution_count": 94,
   "metadata": {},
   "outputs": [],
   "source": [
    "# Step 5: Identify key influencers\n",
    "def compute_centrality_measures(G):\n",
    "    degree_centrality = nx.degree_centrality(G)\n",
    "    betweenness_centrality = nx.betweenness_centrality(G)\n",
    "    eigenvector_centrality = nx.eigenvector_centrality(G)\n",
    "\n",
    "    centrality_df = pd.DataFrame({\n",
    "        'Node': list(G.nodes),\n",
    "        'Degree Centrality': degree_centrality.values(),\n",
    "        'Betweenness Centrality': betweenness_centrality.values(),\n",
    "        'Eigenvector Centrality': eigenvector_centrality.values(),\n",
    "        'Days Connected': [G.nodes[node].get(\"Days Connected\", None) for node in G.nodes()]\n",
    "    })\n",
    "\n",
    "    top_influencers = centrality_df.sort_values(by='Degree Centrality', ascending=False).head(10)\n",
    "    return top_influencers, degree_centrality"
   ]
  },
  {
   "cell_type": "code",
   "execution_count": 36,
   "metadata": {},
   "outputs": [],
   "source": [
    "# Step 6: Visualize degree distribution\n",
    "def plot_degree_distribution(G):\n",
    "    degrees = [degree for _, degree in G.degree()]\n",
    "    plt.figure(figsize=(8, 6))\n",
    "    plt.hist(degrees, bins=range(1, max(degrees) + 2), align='left', edgecolor='black')\n",
    "    plt.title(\"Degree Distribution\")\n",
    "    plt.xlabel(\"Degree\")\n",
    "    plt.ylabel(\"Frequency\")\n",
    "    plt.show()\n",
    "\n",
    "    # Check for scale-free network\n",
    "    plt.figure(figsize=(8, 6))\n",
    "    plt.loglog(sorted(degrees, reverse=True), marker='o', linestyle='None')\n",
    "    plt.title(\"Log-Log Plot of Degree Distribution\")\n",
    "    plt.xlabel(\"Degree\")\n",
    "    plt.ylabel(\"Frequency\")\n",
    "    plt.show()\n",
    "\n",
    "    # Fit power-law distribution (ensure dataset size is sufficient)\n",
    "    if len(degrees) < 30:\n",
    "        print(\"Dataset too small to reliably fit a power-law distribution.\")\n",
    "        return\n",
    "\n",
    "    degrees = np.array(degrees)\n",
    "    alpha, loc, scale = powerlaw.fit(degrees)\n",
    "\n",
    "    # Plot power-law fit\n",
    "    plt.figure(figsize=(8, 6))\n",
    "    plt.hist(degrees, bins=30, density=True, alpha=0.7, label='Degree Distribution')\n",
    "    x = np.linspace(min(degrees), max(degrees), 100)\n",
    "    plt.plot(x, powerlaw.pdf(x, alpha, loc, scale), 'r-', label=f'Power Law Fit (α={alpha:.2f})')\n",
    "    plt.xlabel(\"Degree\")\n",
    "    plt.ylabel(\"Density\")\n",
    "    plt.legend()\n",
    "    plt.title(\"Degree Distribution and Power Law Fit\")\n",
    "    plt.show()\n",
    "\n",
    "    # Perform Kolmogorov-Smirnov test\n",
    "    D, p_value = kstest(degrees, 'powerlaw', args=(alpha, loc, scale))\n",
    "    print(f\"Kolmogorov-Smirnov Test: D = {D}, p-value = {p_value}\")"
   ]
  },
  {
   "cell_type": "code",
   "execution_count": 35,
   "metadata": {},
   "outputs": [],
   "source": [
    "# Step 7: Visualize the graph interactively with key hubs highlighted\n",
    "def visualize_graph_interactive(G, degree_centrality, title=\"Graph Visualization\"):\n",
    "    pos = nx.spring_layout(G, weight='weight')\n",
    "\n",
    "    # Extracting edge and node information for Plotly\n",
    "    edge_x = []\n",
    "    edge_y = []\n",
    "    edge_weights = []\n",
    "    filtered_edges = [edge for edge in G.edges(data=True) if edge[2].get('weight', 1) > 1]\n",
    "    for edge in filtered_edges:\n",
    "        x0, y0 = pos[edge[0]]\n",
    "        x1, y1 = pos[edge[1]]\n",
    "        edge_x.append(x0)\n",
    "        edge_x.append(x1)\n",
    "        edge_x.append(None)\n",
    "        edge_y.append(y0)\n",
    "        edge_y.append(y1)\n",
    "        edge_y.append(None)\n",
    "        edge_weights.append(edge[2].get('weight', 1))\n",
    "\n",
    "    edge_trace = go.Scatter(\n",
    "        x=edge_x, y=edge_y,\n",
    "        line=dict(width=0.5, color='#888'),\n",
    "        hoverinfo='none',\n",
    "        mode='lines')\n",
    "\n",
    "    # Assigning node colors and sizes based on company\n",
    "    company_colors = {company: f\"hsl({i * 360 / len(set(nx.get_node_attributes(G, 'company').values()))}, 70%, 50%)\" \n",
    "                      for i, company in enumerate(set(nx.get_node_attributes(G, 'company').values()))}\n",
    "\n",
    "    node_x = []\n",
    "    node_y = []\n",
    "    node_text = []\n",
    "    node_color = []\n",
    "    node_size = []\n",
    "\n",
    "    for node in G.nodes():\n",
    "        x, y = pos[node]\n",
    "        node_x.append(x)\n",
    "        node_y.append(y)\n",
    "        node_text.append(f\"{node}<br>Company: {G.nodes[node].get('company', 'N/A')}<br>Degree Centrality: {degree_centrality[node]:.4f}<br>Days Connected: {G.nodes[node].get('days_connected', 'N/A')}\")\n",
    "        node_color.append(company_colors.get(G.nodes[node].get('company', 'N/A'), '#cccccc'))\n",
    "        node_size.append(10)\n",
    "\n",
    "    node_trace = go.Scatter(\n",
    "        x=node_x, y=node_y,\n",
    "        mode='markers',\n",
    "        hoverinfo='text',\n",
    "        text=node_text,\n",
    "        marker=dict(\n",
    "            showscale=False,\n",
    "            color=node_color,\n",
    "            size=node_size,\n",
    "            line_width=2))\n",
    "\n",
    "    fig = go.Figure(data=[edge_trace, node_trace],\n",
    "                 layout=go.Layout(\n",
    "                    title=title,\n",
    "                    titlefont_size=16,\n",
    "                    showlegend=False,\n",
    "                    hovermode='closest',\n",
    "                    margin=dict(b=0,l=0,r=0,t=40),\n",
    "                    xaxis=dict(showgrid=False, zeroline=False),\n",
    "                    yaxis=dict(showgrid=False, zeroline=False)))\n",
    "\n",
    "    fig.show()\n"
   ]
  },
  {
   "cell_type": "markdown",
   "metadata": {},
   "source": [
    "## RUN PROCESS"
   ]
  },
  {
   "cell_type": "code",
   "execution_count": 7,
   "metadata": {},
   "outputs": [],
   "source": [
    "# Arquivos de entrada\n",
    "json_file = \"..\\small_world_linkedin\\data\\linkedin_graph.json\"  # Substitua pelo caminho do arquivo JSON\n",
    "csv_file = \"..\\small_world_linkedin\\data\\linkedin_v3.csv\"    # Substitua pelo caminho do arquivo CSV\n"
   ]
  },
  {
   "cell_type": "code",
   "execution_count": 160,
   "metadata": {},
   "outputs": [],
   "source": [
    "# Processar os dados\n",
    "combined_data = process_data(json_file, csv_file)\n",
    "\n"
   ]
  },
  {
   "cell_type": "code",
   "execution_count": 161,
   "metadata": {},
   "outputs": [
    {
     "name": "stdout",
     "output_type": "stream",
     "text": [
      "Warning: When  cdn_resources is 'local' jupyter notebook has issues displaying graphics on chrome/safari. Use cdn_resources='in_line' or cdn_resources='remote' if you have issues viewing graphics in a notebook.\n",
      "connections_graph.html\n"
     ]
    }
   ],
   "source": [
    "# Criar e exibir o grafo\n",
    "graph = create_graph(combined_data)"
   ]
  },
  {
   "cell_type": "code",
   "execution_count": 162,
   "metadata": {},
   "outputs": [
    {
     "name": "stdout",
     "output_type": "stream",
     "text": [
      "Clustering Coefficient: 0.8395395696490431\n",
      "Average Path Length: 1.8146453089244852\n"
     ]
    }
   ],
   "source": [
    "clustering_coefficient, average_path_length = analyze_graph(graph)\n",
    "print(f\"Clustering Coefficient: {clustering_coefficient}\")\n",
    "if average_path_length is not None:\n",
    "    print(f\"Average Path Length: {average_path_length}\")\n",
    "else:\n",
    "    print(\"Graph is not connected; cannot compute average path length.\")"
   ]
  },
  {
   "cell_type": "code",
   "execution_count": 163,
   "metadata": {},
   "outputs": [],
   "source": [
    "top_influencers, degree_centrality = compute_centrality_measures(graph)"
   ]
  },
  {
   "cell_type": "code",
   "execution_count": 165,
   "metadata": {},
   "outputs": [
    {
     "data": {
      "image/png": "[encoded data removed]",
      "text/plain": [
       "<Figure size 800x600 with 1 Axes>"
      ]
     },
     "metadata": {},
     "output_type": "display_data"
    },
    {
     "data": {
      "image/png": "[encoded data removed]",
      "text/plain": [
       "<Figure size 800x600 with 1 Axes>"
      ]
     },
     "metadata": {},
     "output_type": "display_data"
    },
    {
     "data": {
      "image/png": "[encoded data removed]",
      "text/plain": [
       "<Figure size 800x600 with 1 Axes>"
      ]
     },
     "metadata": {},
     "output_type": "display_data"
    },
    {
     "name": "stdout",
     "output_type": "stream",
     "text": [
      "Kolmogorov-Smirnov Test: D = 0.34623969213151606, p-value = 8.051937633246087e-13\n"
     ]
    }
   ],
   "source": [
    "plot_degree_distribution(graph)"
   ]
  },
  {
   "cell_type": "code",
   "execution_count": 166,
   "metadata": {},
   "outputs": [
    {
     "data": {
      "application/vnd.plotly.v1+json": {
       "config": {
        "plotlyServerURL": "https://plot.ly"
       },
       "data": [
        {
         "hoverinfo": "none",
         "line": {
          "color": "#888",
          "width": 0.5
         },
         "mode": "lines",
         "type": "scatter",
         "x": [],
         "y": []
        },
        {
         "hoverinfo": "text",
         "marker": {
          "color": [
           "#cccccc",
           "#cccccc",
           "#cccccc",
           "#cccccc",
           "#cccccc",
           "#cccccc",
           "#cccccc",
           "#cccccc",
           "#cccccc",
           "#cccccc",
           "#cccccc",
           "#cccccc",
           "#cccccc",
           "#cccccc",
           "#cccccc",
           "#cccccc",
           "#cccccc",
           "#cccccc",
           "#cccccc",
           "#cccccc",
           "#cccccc",
           "#cccccc",
           "#cccccc",
           "#cccccc",
           "#cccccc",
           "#cccccc",
           "#cccccc",
           "#cccccc",
           "#cccccc",
           "#cccccc",
           "#cccccc",
           "#cccccc",
           "#cccccc",
           "#cccccc",
           "#cccccc",
           "#cccccc",
           "#cccccc",
           "#cccccc",
           "#cccccc",
           "#cccccc",
           "#cccccc",
           "#cccccc",
           "#cccccc",
           "#cccccc",
           "#cccccc",
           "#cccccc",
           "#cccccc",
           "#cccccc",
           "#cccccc",
           "#cccccc",
           "#cccccc",
           "#cccccc",
           "#cccccc",
           "#cccccc",
           "#cccccc",
           "#cccccc",
           "#cccccc",
           "#cccccc",
           "#cccccc",
           "#cccccc",
           "#cccccc",
           "#cccccc",
           "#cccccc",
           "#cccccc",
           "#cccccc",
           "#cccccc",
           "#cccccc",
           "#cccccc",
           "#cccccc",
           "#cccccc",
           "#cccccc",
           "#cccccc",
           "#cccccc",
           "#cccccc",
           "#cccccc",
           "#cccccc",
           "#cccccc",
           "#cccccc",
           "#cccccc",
           "#cccccc",
           "#cccccc",
           "#cccccc",
           "#cccccc",
           "#cccccc",
           "#cccccc",
           "#cccccc",
           "#cccccc",
           "#cccccc",
           "#cccccc",
           "#cccccc",
           "#cccccc",
           "#cccccc",
           "#cccccc",
           "#cccccc",
           "#cccccc",
           "#cccccc",
           "#cccccc",
           "#cccccc",
           "#cccccc",
           "#cccccc",
           "#cccccc",
           "#cccccc",
           "#cccccc",
           "#cccccc",
           "#cccccc",
           "#cccccc",
           "#cccccc",
           "#cccccc",
           "#cccccc",
           "#cccccc",
           "#cccccc",
           "#cccccc",
           "#cccccc",
           "#cccccc",
           "#cccccc"
          ],
          "line": {
           "width": 2
          },
          "showscale": false,
          "size": [
           10,
           10,
           10,
           10,
           10,
           10,
           10,
           10,
           10,
           10,
           10,
           10,
           10,
           10,
           10,
           10,
           10,
           10,
           10,
           10,
           10,
           10,
           10,
           10,
           10,
           10,
           10,
           10,
           10,
           10,
           10,
           10,
           10,
           10,
           10,
           10,
           10,
           10,
           10,
           10,
           10,
           10,
           10,
           10,
           10,
           10,
           10,
           10,
           10,
           10,
           10,
           10,
           10,
           10,
           10,
           10,
           10,
           10,
           10,
           10,
           10,
           10,
           10,
           10,
           10,
           10,
           10,
           10,
           10,
           10,
           10,
           10,
           10,
           10,
           10,
           10,
           10,
           10,
           10,
           10,
           10,
           10,
           10,
           10,
           10,
           10,
           10,
           10,
           10,
           10,
           10,
           10,
           10,
           10,
           10,
           10,
           10,
           10,
           10,
           10,
           10,
           10,
           10,
           10,
           10,
           10,
           10,
           10,
           10,
           10,
           10,
           10,
           10,
           10,
           10
          ]
         },
         "mode": "markers",
         "text": [
          "Akina Sakamori<br>Company: N/A<br>Degree Centrality: 0.6053<br>Days Connected: N/A",
          "Alexandro Rondini<br>Company: N/A<br>Degree Centrality: 0.6667<br>Days Connected: N/A",
          "Amanda Felício Rodrigues Frech<br>Company: N/A<br>Degree Centrality: 0.3772<br>Days Connected: N/A",
          "Anderson Maciel Souza<br>Company: N/A<br>Degree Centrality: 0.4912<br>Days Connected: N/A",
          "Angela Achcar<br>Company: N/A<br>Degree Centrality: 0.6140<br>Days Connected: N/A",
          "Angelica Gozzani Tozetti<br>Company: N/A<br>Degree Centrality: 0.6491<br>Days Connected: N/A",
          "Bianca Schorles<br>Company: N/A<br>Degree Centrality: 0.5088<br>Days Connected: N/A",
          "Ricardo Blanco<br>Company: N/A<br>Degree Centrality: 0.6754<br>Days Connected: N/A",
          "Bruno Vinicius Souza<br>Company: N/A<br>Degree Centrality: 0.5439<br>Days Connected: N/A",
          "Caíque Corcioli<br>Company: N/A<br>Degree Centrality: 0.6053<br>Days Connected: N/A",
          "Carvalho Wolney<br>Company: N/A<br>Degree Centrality: 0.0702<br>Days Connected: N/A",
          "Clézio Lopes<br>Company: N/A<br>Degree Centrality: 0.0789<br>Days Connected: N/A",
          "Crystiane  Fernanda de Souza<br>Company: N/A<br>Degree Centrality: 0.0877<br>Days Connected: N/A",
          "Daniel Bueno<br>Company: N/A<br>Degree Centrality: 0.0965<br>Days Connected: N/A",
          "Danilo Silva<br>Company: N/A<br>Degree Centrality: 0.0877<br>Days Connected: N/A",
          "Davi Keglevich Neiva<br>Company: N/A<br>Degree Centrality: 0.0702<br>Days Connected: N/A",
          "Gilvana Yogui<br>Company: N/A<br>Degree Centrality: 0.1053<br>Days Connected: N/A",
          "Felipe Gonçalves<br>Company: N/A<br>Degree Centrality: 0.1053<br>Days Connected: N/A",
          "Guilherme Baldochi<br>Company: N/A<br>Degree Centrality: 0.0877<br>Days Connected: N/A",
          "Guilherme F. Poppi<br>Company: N/A<br>Degree Centrality: 0.0789<br>Days Connected: N/A",
          "Gustavo Pacheco Lopes<br>Company: N/A<br>Degree Centrality: 0.0789<br>Days Connected: N/A",
          "Heitor Fernandes<br>Company: N/A<br>Degree Centrality: 0.0789<br>Days Connected: N/A",
          "Italo  Ramos<br>Company: N/A<br>Degree Centrality: 0.0702<br>Days Connected: N/A",
          "Jairo Franklin<br>Company: N/A<br>Degree Centrality: 0.0789<br>Days Connected: N/A",
          "Janaina  Silva Brandão Toledo<br>Company: N/A<br>Degree Centrality: 0.0789<br>Days Connected: N/A",
          "Jefferson Araujo dos Santos<br>Company: N/A<br>Degree Centrality: 0.0877<br>Days Connected: N/A",
          "Jeniffer Damarys S. M. de Bedia<br>Company: N/A<br>Degree Centrality: 0.0789<br>Days Connected: N/A",
          "João Guilherme Aguiar<br>Company: N/A<br>Degree Centrality: 0.0877<br>Days Connected: N/A",
          "João Neto de Freitas Castro<br>Company: N/A<br>Degree Centrality: 0.0965<br>Days Connected: N/A",
          "José Mendes da Silva Junior<br>Company: N/A<br>Degree Centrality: 0.1053<br>Days Connected: N/A",
          "Juan Borges<br>Company: N/A<br>Degree Centrality: 0.1140<br>Days Connected: N/A",
          "Juliana Custódio Da Silva<br>Company: N/A<br>Degree Centrality: 0.1140<br>Days Connected: N/A",
          "Juliana Araújo<br>Company: N/A<br>Degree Centrality: 0.1053<br>Days Connected: N/A",
          "Kalinka Durço dos Reis<br>Company: N/A<br>Degree Centrality: 0.1053<br>Days Connected: N/A",
          "Katia Carvalho<br>Company: N/A<br>Degree Centrality: 0.1053<br>Days Connected: N/A",
          "Mário Bibiano<br>Company: N/A<br>Degree Centrality: 0.1053<br>Days Connected: N/A",
          "Matheus Polycarpo<br>Company: N/A<br>Degree Centrality: 0.1140<br>Days Connected: N/A",
          "Mayara Amanda<br>Company: N/A<br>Degree Centrality: 0.1228<br>Days Connected: N/A",
          "Mayara Formenton<br>Company: N/A<br>Degree Centrality: 0.1140<br>Days Connected: N/A",
          "Melissa Brandão F Sousa<br>Company: N/A<br>Degree Centrality: 0.1140<br>Days Connected: N/A",
          "Milena Ferreira<br>Company: N/A<br>Degree Centrality: 0.1140<br>Days Connected: N/A",
          "Mislene Serra<br>Company: N/A<br>Degree Centrality: 0.1140<br>Days Connected: N/A",
          "Murilo Gomes dos Santos<br>Company: N/A<br>Degree Centrality: 0.1140<br>Days Connected: N/A",
          "Camila Ozelame<br>Company: N/A<br>Degree Centrality: 0.1053<br>Days Connected: N/A",
          "Patricia Carneiro<br>Company: N/A<br>Degree Centrality: 0.1053<br>Days Connected: N/A",
          "Patricia Ramalho<br>Company: N/A<br>Degree Centrality: 0.1053<br>Days Connected: N/A",
          "Paulo Celio Di Cellio Dias<br>Company: N/A<br>Degree Centrality: 0.1053<br>Days Connected: N/A",
          "Raisa Kamaura<br>Company: N/A<br>Degree Centrality: 0.1053<br>Days Connected: N/A",
          "Reinaldo Pagnossi<br>Company: N/A<br>Degree Centrality: 0.0965<br>Days Connected: N/A",
          "Renata Afonso de Almeida e Silva<br>Company: N/A<br>Degree Centrality: 0.0965<br>Days Connected: N/A",
          "Roberto Cremon Godoy<br>Company: N/A<br>Degree Centrality: 0.1140<br>Days Connected: N/A",
          "SILMAR HORTA<br>Company: N/A<br>Degree Centrality: 0.1053<br>Days Connected: N/A",
          "Stella Martello<br>Company: N/A<br>Degree Centrality: 0.1053<br>Days Connected: N/A",
          "Stephany Marqui<br>Company: N/A<br>Degree Centrality: 0.1140<br>Days Connected: N/A",
          "Tayane Guerrero<br>Company: N/A<br>Degree Centrality: 0.1140<br>Days Connected: N/A",
          "Tiago Simões<br>Company: N/A<br>Degree Centrality: 0.0965<br>Days Connected: N/A",
          "Tiago Vianez<br>Company: N/A<br>Degree Centrality: 0.0877<br>Days Connected: N/A",
          "Victor Fernandes<br>Company: N/A<br>Degree Centrality: 0.1491<br>Days Connected: N/A",
          "Vinicius Silva<br>Company: N/A<br>Degree Centrality: 0.1491<br>Days Connected: N/A",
          "Vitor Hugo Chaves Cambui<br>Company: N/A<br>Degree Centrality: 0.7368<br>Days Connected: N/A",
          "Vitor Yoshida<br>Company: N/A<br>Degree Centrality: 0.1579<br>Days Connected: N/A",
          "Vlademir Eleuterio<br>Company: N/A<br>Degree Centrality: 0.8772<br>Days Connected: N/A",
          "Denis Prado  de Souza<br>Company: N/A<br>Degree Centrality: 0.0526<br>Days Connected: N/A",
          "Olivier Devaux<br>Company: N/A<br>Degree Centrality: 0.0526<br>Days Connected: N/A",
          "Diogo Moreira<br>Company: N/A<br>Degree Centrality: 0.0614<br>Days Connected: N/A",
          "Elias Oliveira<br>Company: N/A<br>Degree Centrality: 0.0702<br>Days Connected: N/A",
          "Elisa Ribeira<br>Company: N/A<br>Degree Centrality: 0.6140<br>Days Connected: N/A",
          "Eric Blanco<br>Company: N/A<br>Degree Centrality: 0.0877<br>Days Connected: N/A",
          "Everton Padovani<br>Company: N/A<br>Degree Centrality: 0.0877<br>Days Connected: N/A",
          "Fábio Canhe<br>Company: N/A<br>Degree Centrality: 0.0877<br>Days Connected: N/A",
          "Fabio Takada<br>Company: N/A<br>Degree Centrality: 0.1053<br>Days Connected: N/A",
          "Fagner Luz da Silva<br>Company: N/A<br>Degree Centrality: 0.0965<br>Days Connected: N/A",
          "Felipe Camargo<br>Company: N/A<br>Degree Centrality: 0.6667<br>Days Connected: N/A",
          "Felipe Domingues Araujo<br>Company: N/A<br>Degree Centrality: 0.8684<br>Days Connected: N/A",
          "Felipe Nascimento de Souza<br>Company: N/A<br>Degree Centrality: 0.5263<br>Days Connected: N/A",
          "Felipe Oliveira<br>Company: N/A<br>Degree Centrality: 0.1140<br>Days Connected: N/A",
          "Fellipe Pereira<br>Company: N/A<br>Degree Centrality: 0.1053<br>Days Connected: N/A",
          "Fernanda Caruso<br>Company: N/A<br>Degree Centrality: 0.0965<br>Days Connected: N/A",
          "Fernanda Kmohan<br>Company: N/A<br>Degree Centrality: 0.5175<br>Days Connected: N/A",
          "Filipe Wanderly da Silva<br>Company: N/A<br>Degree Centrality: 0.1053<br>Days Connected: N/A",
          "Genival Reginato Pateis<br>Company: N/A<br>Degree Centrality: 0.1140<br>Days Connected: N/A",
          "Geraldo R Novais Jr<br>Company: N/A<br>Degree Centrality: 0.1053<br>Days Connected: N/A",
          "Lúcia Helena Francisco<br>Company: N/A<br>Degree Centrality: 0.0965<br>Days Connected: N/A",
          "Leonardo  Amaral<br>Company: N/A<br>Degree Centrality: 0.1053<br>Days Connected: N/A",
          "Lia Lanzi Aló<br>Company: N/A<br>Degree Centrality: 0.7368<br>Days Connected: N/A",
          "Lucas Abrahão<br>Company: N/A<br>Degree Centrality: 0.0877<br>Days Connected: N/A",
          "Lucas Akama<br>Company: N/A<br>Degree Centrality: 0.4474<br>Days Connected: N/A",
          "Lucas Bacinelli<br>Company: N/A<br>Degree Centrality: 0.0877<br>Days Connected: N/A",
          "Mariana A. Nunes De Toni<br>Company: N/A<br>Degree Centrality: 0.1140<br>Days Connected: N/A",
          "Mariana Feltrin<br>Company: N/A<br>Degree Centrality: 0.0965<br>Days Connected: N/A",
          "Mariana Ornelas<br>Company: N/A<br>Degree Centrality: 0.1053<br>Days Connected: N/A",
          "Roberto Asano<br>Company: N/A<br>Degree Centrality: 0.1053<br>Days Connected: N/A",
          "Rodrigo Rodrigues<br>Company: N/A<br>Degree Centrality: 0.1053<br>Days Connected: N/A",
          "Rodrigo Hirota Trevisan <br>Company: N/A<br>Degree Centrality: 0.0965<br>Days Connected: N/A",
          "Rodrigo Piassi<br>Company: N/A<br>Degree Centrality: 0.0877<br>Days Connected: N/A",
          "Sara Nóbrega<br>Company: N/A<br>Degree Centrality: 0.0965<br>Days Connected: N/A",
          "Tiemi Kobayashi<br>Company: N/A<br>Degree Centrality: 0.0877<br>Days Connected: N/A",
          "Lucas Nardy Vasconcellos<br>Company: N/A<br>Degree Centrality: 0.0789<br>Days Connected: N/A",
          "Lucas Oliveira<br>Company: N/A<br>Degree Centrality: 0.0965<br>Days Connected: N/A",
          "Vanessa Hitomi Nakano<br>Company: N/A<br>Degree Centrality: 0.0789<br>Days Connected: N/A",
          "Vanessa Simão<br>Company: N/A<br>Degree Centrality: 0.1053<br>Days Connected: N/A",
          "Veridiana Contieri<br>Company: N/A<br>Degree Centrality: 0.5175<br>Days Connected: N/A",
          "Marcelo Henrique Casagrande<br>Company: N/A<br>Degree Centrality: 0.0789<br>Days Connected: N/A",
          "Marcelo Pimenta<br>Company: N/A<br>Degree Centrality: 0.0965<br>Days Connected: N/A",
          "Marcelo Vicentim<br>Company: N/A<br>Degree Centrality: 0.0965<br>Days Connected: N/A",
          "Marc Witarsa<br>Company: N/A<br>Degree Centrality: 0.0965<br>Days Connected: N/A",
          "Thiago Jose da Silva<br>Company: N/A<br>Degree Centrality: 0.0789<br>Days Connected: N/A",
          "Uemerson Santos<br>Company: N/A<br>Degree Centrality: 0.0702<br>Days Connected: N/A",
          "Uziel Paulo da Silva<br>Company: N/A<br>Degree Centrality: 0.0702<br>Days Connected: N/A",
          "Valdivan Ribeiro<br>Company: N/A<br>Degree Centrality: 0.0702<br>Days Connected: N/A",
          "Luccas França<br>Company: N/A<br>Degree Centrality: 0.0789<br>Days Connected: N/A",
          "Luciana Amorim<br>Company: N/A<br>Degree Centrality: 0.0789<br>Days Connected: N/A",
          "Luiz Filipe Martin Morra<br>Company: N/A<br>Degree Centrality: 0.0789<br>Days Connected: N/A",
          "Márcia Macera Geraldo<br>Company: N/A<br>Degree Centrality: 0.0614<br>Days Connected: N/A",
          "Maria Luiza Brasil Fontes Leão<br>Company: N/A<br>Degree Centrality: 0.0614<br>Days Connected: N/A"
         ],
         "type": "scatter",
         "x": [
          0.18511866227472776,
          -0.07232382472926471,
          0.10719914679335826,
          -0.222208195124561,
          0.021916552596440864,
          -0.19541111459424626,
          -0.2594000673952801,
          0.047245964051758516,
          -0.08523583420606998,
          -0.15992038220525792,
          0.9297761284079467,
          0.5051756054646783,
          0.6972391045792073,
          0.6947987734263925,
          -0.1532768092189736,
          0.4097530167051285,
          0.282120806298965,
          0.6043981714508676,
          0.7816089685885269,
          0.8810137135538466,
          0.7423776734385955,
          0.710308165656138,
          0.6968366711961559,
          0.8600682851380018,
          0.3499318613624213,
          0.5485725168934487,
          -0.7132214963959296,
          0.6099698748957448,
          -0.31615330470724573,
          -0.6136083834143082,
          -0.3854935609556766,
          0.1874524469743169,
          -0.5549649230860687,
          0.3183581943955671,
          -0.6014312933360908,
          0.5263729391149172,
          -0.2736582239926656,
          -0.08217921977355587,
          0.06495062345114218,
          -0.1877535370195349,
          -0.48791857294969815,
          -0.41799498286254644,
          -0.5534420971953359,
          0.04661149163814025,
          0.20929261831740026,
          -0.2872179205266812,
          0.15122699632816222,
          -0.07565210560241131,
          0.7431038521398929,
          0.35171256102431653,
          0.35756613953564165,
          0.14521727958174105,
          0.3072376314297574,
          0.015223391171360269,
          0.4256064428946444,
          -0.02325070453172604,
          -0.21799395916640213,
          0.27998231310678073,
          0.09262490144021263,
          0.08323353361645591,
          -0.35015484387901386,
          0.02613668853878244,
          -0.8208747463244317,
          0.8966485180031601,
          0.49961108091468154,
          0.7466147657555662,
          0.13446082805929171,
          -0.7773107582199562,
          -0.8243496149645272,
          -0.7512371338815568,
          -0.5311783200542397,
          0.42531928429470883,
          0.010403390862176402,
          0.028443670664997374,
          0.0019578139310454054,
          0.4455197954063097,
          -0.12187782298419403,
          -0.6679315271215753,
          0.0646963131680388,
          0.4801541560283715,
          0.1340815467673252,
          0.49730393459400685,
          -0.7684906925776998,
          -0.4711046382463722,
          -0.03737214095987704,
          -0.5676278014927197,
          -0.07417653639259017,
          -0.6568237836294158,
          0.36831435103159055,
          -0.5003888353599559,
          0.46092235500364853,
          -0.49135988005094805,
          -0.30665090519791993,
          -0.2980815526181234,
          -0.37660929879143434,
          0.1568942678209104,
          -0.49610751274209336,
          -0.06792086781571938,
          -0.21898861859257424,
          -0.5752316331861579,
          -0.5897877276428816,
          0.1379424153451871,
          0.5523812870974496,
          -0.3851571055804672,
          0.6068886450198578,
          0.6331401708564992,
          -0.6647533384962142,
          -0.3009529716908288,
          -0.48157470154851917,
          -0.8801085085456658,
          -0.2455539914389605,
          -0.7469201549079997,
          -0.07460724727499675,
          -0.38911957990512663,
          0.1710570070078968
         ],
         "y": [
          0.06262240452925177,
          -0.08057728665533385,
          0.21766435340402054,
          0.15634225750632155,
          0.0660308037660856,
          -0.015989063929469225,
          0.057386866503430785,
          -0.09220963737521357,
          -0.21042300963466617,
          0.2395666624293804,
          -0.1357389988840216,
          -0.6593420982455452,
          0.2764896639176055,
          0.13364292626266921,
          -0.6910029937601668,
          -0.7781901900442657,
          -0.491376528553239,
          0.10386184606095078,
          0.36121188634026297,
          0.03258854389403992,
          -0.4346336145520038,
          0.4846175668580506,
          -0.6071819509748905,
          0.19039380419218516,
          0.7806479146841616,
          0.611353288630705,
          0.20844951368889464,
          -0.3091298224631426,
          0.5144990821797275,
          -0.13973443216016895,
          -0.3238888665343249,
          0.4971257248663022,
          0.31167041474162255,
          0.435827897811787,
          -0.2774742446815187,
          0.2895257728898394,
          -0.3718310531539995,
          0.505101128421036,
          0.5901825350882591,
          0.5643172769326724,
          -0.11556859627024253,
          0.35198247361959184,
          0.12452740570785417,
          0.7522126200455606,
          0.6833408761841084,
          0.6551621528539274,
          0.7684560549784116,
          0.7543915552195328,
          -0.04928681121366153,
          0.5837085052853449,
          -0.4041969784300879,
          -0.6622354326303537,
          -0.6197554034310062,
          -0.5897056890242189,
          -0.43730953501335035,
          -0.7281842386942912,
          0.7380207527615542,
          -0.26400800646122247,
          0.409211112373013,
          -0.07055488115205008,
          -0.0966731072880936,
          -0.022359236311486716,
          0.5393417646227826,
          -0.37382347847427844,
          0.7874175995602634,
          -0.24388609110169263,
          -0.21229751367357153,
          -0.22127435171347778,
          -0.07224501656328958,
          0.2955205550545743,
          0.015262725155771803,
          0.5104975723468482,
          0.20061300515542044,
          0.009971981342665819,
          -0.25832171430541956,
          0.14317033851523656,
          -0.49092344155722073,
          -0.04456732945985625,
          0.15185171081150808,
          -0.09531791759640654,
          -0.49887361105547134,
          -0.2731607886811238,
          0.07108881010636886,
          0.43161029752395613,
          -0.01580493835985932,
          -0.44339324310977024,
          0.053721924226138244,
          -0.49266378669074223,
          0.23585221360426548,
          -0.5630925123146754,
          0.39337499944323484,
          -0.26273224484998803,
          0.3316430737090789,
          -0.6371187368085529,
          -0.7288371477317155,
          -0.7622109952532677,
          0.5912797363050325,
          0.6747037621636999,
          -0.583375281915574,
          0.69076633667064,
          0.18476509492526758,
          0.04960554014071567,
          -0.578887321274411,
          -0.5568930406496531,
          -0.19928182322957688,
          -0.045444145637514165,
          0.5158050717820101,
          0.9048614277737147,
          0.8191938453968209,
          0.3618975447287111,
          -0.847324168339075,
          -0.47020578684282593,
          -0.8884486291981325,
          -0.9369838117837119,
          -1
         ]
        }
       ],
       "layout": {
        "hovermode": "closest",
        "margin": {
         "b": 0,
         "l": 0,
         "r": 0,
         "t": 40
        },
        "showlegend": false,
        "template": {
         "data": {
          "bar": [
           {
            "error_x": {
             "color": "#2a3f5f"
            },
            "error_y": {
             "color": "#2a3f5f"
            },
            "marker": {
             "line": {
              "color": "#E5ECF6",
              "width": 0.5
             },
             "pattern": {
              "fillmode": "overlay",
              "size": 10,
              "solidity": 0.2
             }
            },
            "type": "bar"
           }
          ],
          "barpolar": [
           {
            "marker": {
             "line": {
              "color": "#E5ECF6",
              "width": 0.5
             },
             "pattern": {
              "fillmode": "overlay",
              "size": 10,
              "solidity": 0.2
             }
            },
            "type": "barpolar"
           }
          ],
          "carpet": [
           {
            "aaxis": {
             "endlinecolor": "#2a3f5f",
             "gridcolor": "white",
             "linecolor": "white",
             "minorgridcolor": "white",
             "startlinecolor": "#2a3f5f"
            },
            "baxis": {
             "endlinecolor": "#2a3f5f",
             "gridcolor": "white",
             "linecolor": "white",
             "minorgridcolor": "white",
             "startlinecolor": "#2a3f5f"
            },
            "type": "carpet"
           }
          ],
          "choropleth": [
           {
            "colorbar": {
             "outlinewidth": 0,
             "ticks": ""
            },
            "type": "choropleth"
           }
          ],
          "contour": [
           {
            "colorbar": {
             "outlinewidth": 0,
             "ticks": ""
            },
            "colorscale": [
             [
              0,
              "#0d0887"
             ],
             [
              0.1111111111111111,
              "#46039f"
             ],
             [
              0.2222222222222222,
              "#7201a8"
             ],
             [
              0.3333333333333333,
              "#9c179e"
             ],
             [
              0.4444444444444444,
              "#bd3786"
             ],
             [
              0.5555555555555556,
              "#d8576b"
             ],
             [
              0.6666666666666666,
              "#ed7953"
             ],
             [
              0.7777777777777778,
              "#fb9f3a"
             ],
             [
              0.8888888888888888,
              "#fdca26"
             ],
             [
              1,
              "#f0f921"
             ]
            ],
            "type": "contour"
           }
          ],
          "contourcarpet": [
           {
            "colorbar": {
             "outlinewidth": 0,
             "ticks": ""
            },
            "type": "contourcarpet"
           }
          ],
          "heatmap": [
           {
            "colorbar": {
             "outlinewidth": 0,
             "ticks": ""
            },
            "colorscale": [
             [
              0,
              "#0d0887"
             ],
             [
              0.1111111111111111,
              "#46039f"
             ],
             [
              0.2222222222222222,
              "#7201a8"
             ],
             [
              0.3333333333333333,
              "#9c179e"
             ],
             [
              0.4444444444444444,
              "#bd3786"
             ],
             [
              0.5555555555555556,
              "#d8576b"
             ],
             [
              0.6666666666666666,
              "#ed7953"
             ],
             [
              0.7777777777777778,
              "#fb9f3a"
             ],
             [
              0.8888888888888888,
              "#fdca26"
             ],
             [
              1,
              "#f0f921"
             ]
            ],
            "type": "heatmap"
           }
          ],
          "heatmapgl": [
           {
            "colorbar": {
             "outlinewidth": 0,
             "ticks": ""
            },
            "colorscale": [
             [
              0,
              "#0d0887"
             ],
             [
              0.1111111111111111,
              "#46039f"
             ],
             [
              0.2222222222222222,
              "#7201a8"
             ],
             [
              0.3333333333333333,
              "#9c179e"
             ],
             [
              0.4444444444444444,
              "#bd3786"
             ],
             [
              0.5555555555555556,
              "#d8576b"
             ],
             [
              0.6666666666666666,
              "#ed7953"
             ],
             [
              0.7777777777777778,
              "#fb9f3a"
             ],
             [
              0.8888888888888888,
              "#fdca26"
             ],
             [
              1,
              "#f0f921"
             ]
            ],
            "type": "heatmapgl"
           }
          ],
          "histogram": [
           {
            "marker": {
             "pattern": {
              "fillmode": "overlay",
              "size": 10,
              "solidity": 0.2
             }
            },
            "type": "histogram"
           }
          ],
          "histogram2d": [
           {
            "colorbar": {
             "outlinewidth": 0,
             "ticks": ""
            },
            "colorscale": [
             [
              0,
              "#0d0887"
             ],
             [
              0.1111111111111111,
              "#46039f"
             ],
             [
              0.2222222222222222,
              "#7201a8"
             ],
             [
              0.3333333333333333,
              "#9c179e"
             ],
             [
              0.4444444444444444,
              "#bd3786"
             ],
             [
              0.5555555555555556,
              "#d8576b"
             ],
             [
              0.6666666666666666,
              "#ed7953"
             ],
             [
              0.7777777777777778,
              "#fb9f3a"
             ],
             [
              0.8888888888888888,
              "#fdca26"
             ],
             [
              1,
              "#f0f921"
             ]
            ],
            "type": "histogram2d"
           }
          ],
          "histogram2dcontour": [
           {
            "colorbar": {
             "outlinewidth": 0,
             "ticks": ""
            },
            "colorscale": [
             [
              0,
              "#0d0887"
             ],
             [
              0.1111111111111111,
              "#46039f"
             ],
             [
              0.2222222222222222,
              "#7201a8"
             ],
             [
              0.3333333333333333,
              "#9c179e"
             ],
             [
              0.4444444444444444,
              "#bd3786"
             ],
             [
              0.5555555555555556,
              "#d8576b"
             ],
             [
              0.6666666666666666,
              "#ed7953"
             ],
             [
              0.7777777777777778,
              "#fb9f3a"
             ],
             [
              0.8888888888888888,
              "#fdca26"
             ],
             [
              1,
              "#f0f921"
             ]
            ],
            "type": "histogram2dcontour"
           }
          ],
          "mesh3d": [
           {
            "colorbar": {
             "outlinewidth": 0,
             "ticks": ""
            },
            "type": "mesh3d"
           }
          ],
          "parcoords": [
           {
            "line": {
             "colorbar": {
              "outlinewidth": 0,
              "ticks": ""
             }
            },
            "type": "parcoords"
           }
          ],
          "pie": [
           {
            "automargin": true,
            "type": "pie"
           }
          ],
          "scatter": [
           {
            "fillpattern": {
             "fillmode": "overlay",
             "size": 10,
             "solidity": 0.2
            },
            "type": "scatter"
           }
          ],
          "scatter3d": [
           {
            "line": {
             "colorbar": {
              "outlinewidth": 0,
              "ticks": ""
             }
            },
            "marker": {
             "colorbar": {
              "outlinewidth": 0,
              "ticks": ""
             }
            },
            "type": "scatter3d"
           }
          ],
          "scattercarpet": [
           {
            "marker": {
             "colorbar": {
              "outlinewidth": 0,
              "ticks": ""
             }
            },
            "type": "scattercarpet"
           }
          ],
          "scattergeo": [
           {
            "marker": {
             "colorbar": {
              "outlinewidth": 0,
              "ticks": ""
             }
            },
            "type": "scattergeo"
           }
          ],
          "scattergl": [
           {
            "marker": {
             "colorbar": {
              "outlinewidth": 0,
              "ticks": ""
             }
            },
            "type": "scattergl"
           }
          ],
          "scattermapbox": [
           {
            "marker": {
             "colorbar": {
              "outlinewidth": 0,
              "ticks": ""
             }
            },
            "type": "scattermapbox"
           }
          ],
          "scatterpolar": [
           {
            "marker": {
             "colorbar": {
              "outlinewidth": 0,
              "ticks": ""
             }
            },
            "type": "scatterpolar"
           }
          ],
          "scatterpolargl": [
           {
            "marker": {
             "colorbar": {
              "outlinewidth": 0,
              "ticks": ""
             }
            },
            "type": "scatterpolargl"
           }
          ],
          "scatterternary": [
           {
            "marker": {
             "colorbar": {
              "outlinewidth": 0,
              "ticks": ""
             }
            },
            "type": "scatterternary"
           }
          ],
          "surface": [
           {
            "colorbar": {
             "outlinewidth": 0,
             "ticks": ""
            },
            "colorscale": [
             [
              0,
              "#0d0887"
             ],
             [
              0.1111111111111111,
              "#46039f"
             ],
             [
              0.2222222222222222,
              "#7201a8"
             ],
             [
              0.3333333333333333,
              "#9c179e"
             ],
             [
              0.4444444444444444,
              "#bd3786"
             ],
             [
              0.5555555555555556,
              "#d8576b"
             ],
             [
              0.6666666666666666,
              "#ed7953"
             ],
             [
              0.7777777777777778,
              "#fb9f3a"
             ],
             [
              0.8888888888888888,
              "#fdca26"
             ],
             [
              1,
              "#f0f921"
             ]
            ],
            "type": "surface"
           }
          ],
          "table": [
           {
            "cells": {
             "fill": {
              "color": "#EBF0F8"
             },
             "line": {
              "color": "white"
             }
            },
            "header": {
             "fill": {
              "color": "#C8D4E3"
             },
             "line": {
              "color": "white"
             }
            },
            "type": "table"
           }
          ]
         },
         "layout": {
          "annotationdefaults": {
           "arrowcolor": "#2a3f5f",
           "arrowhead": 0,
           "arrowwidth": 1
          },
          "autotypenumbers": "strict",
          "coloraxis": {
           "colorbar": {
            "outlinewidth": 0,
            "ticks": ""
           }
          },
          "colorscale": {
           "diverging": [
            [
             0,
             "#8e0152"
            ],
            [
             0.1,
             "#c51b7d"
            ],
            [
             0.2,
             "#de77ae"
            ],
            [
             0.3,
             "#f1b6da"
            ],
            [
             0.4,
             "#fde0ef"
            ],
            [
             0.5,
             "#f7f7f7"
            ],
            [
             0.6,
             "#e6f5d0"
            ],
            [
             0.7,
             "#b8e186"
            ],
            [
             0.8,
             "#7fbc41"
            ],
            [
             0.9,
             "#4d9221"
            ],
            [
             1,
             "#276419"
            ]
           ],
           "sequential": [
            [
             0,
             "#0d0887"
            ],
            [
             0.1111111111111111,
             "#46039f"
            ],
            [
             0.2222222222222222,
             "#7201a8"
            ],
            [
             0.3333333333333333,
             "#9c179e"
            ],
            [
             0.4444444444444444,
             "#bd3786"
            ],
            [
             0.5555555555555556,
             "#d8576b"
            ],
            [
             0.6666666666666666,
             "#ed7953"
            ],
            [
             0.7777777777777778,
             "#fb9f3a"
            ],
            [
             0.8888888888888888,
             "#fdca26"
            ],
            [
             1,
             "#f0f921"
            ]
           ],
           "sequentialminus": [
            [
             0,
             "#0d0887"
            ],
            [
             0.1111111111111111,
             "#46039f"
            ],
            [
             0.2222222222222222,
             "#7201a8"
            ],
            [
             0.3333333333333333,
             "#9c179e"
            ],
            [
             0.4444444444444444,
             "#bd3786"
            ],
            [
             0.5555555555555556,
             "#d8576b"
            ],
            [
             0.6666666666666666,
             "#ed7953"
            ],
            [
             0.7777777777777778,
             "#fb9f3a"
            ],
            [
             0.8888888888888888,
             "#fdca26"
            ],
            [
             1,
             "#f0f921"
            ]
           ]
          },
          "colorway": [
           "#636efa",
           "#EF553B",
           "#00cc96",
           "#ab63fa",
           "#FFA15A",
           "#19d3f3",
           "#FF6692",
           "#B6E880",
           "#FF97FF",
           "#FECB52"
          ],
          "font": {
           "color": "#2a3f5f"
          },
          "geo": {
           "bgcolor": "white",
           "lakecolor": "white",
           "landcolor": "#E5ECF6",
           "showlakes": true,
           "showland": true,
           "subunitcolor": "white"
          },
          "hoverlabel": {
           "align": "left"
          },
          "hovermode": "closest",
          "mapbox": {
           "style": "light"
          },
          "paper_bgcolor": "white",
          "plot_bgcolor": "#E5ECF6",
          "polar": {
           "angularaxis": {
            "gridcolor": "white",
            "linecolor": "white",
            "ticks": ""
           },
           "bgcolor": "#E5ECF6",
           "radialaxis": {
            "gridcolor": "white",
            "linecolor": "white",
            "ticks": ""
           }
          },
          "scene": {
           "xaxis": {
            "backgroundcolor": "#E5ECF6",
            "gridcolor": "white",
            "gridwidth": 2,
            "linecolor": "white",
            "showbackground": true,
            "ticks": "",
            "zerolinecolor": "white"
           },
           "yaxis": {
            "backgroundcolor": "#E5ECF6",
            "gridcolor": "white",
            "gridwidth": 2,
            "linecolor": "white",
            "showbackground": true,
            "ticks": "",
            "zerolinecolor": "white"
           },
           "zaxis": {
            "backgroundcolor": "#E5ECF6",
            "gridcolor": "white",
            "gridwidth": 2,
            "linecolor": "white",
            "showbackground": true,
            "ticks": "",
            "zerolinecolor": "white"
           }
          },
          "shapedefaults": {
           "line": {
            "color": "#2a3f5f"
           }
          },
          "ternary": {
           "aaxis": {
            "gridcolor": "white",
            "linecolor": "white",
            "ticks": ""
           },
           "baxis": {
            "gridcolor": "white",
            "linecolor": "white",
            "ticks": ""
           },
           "bgcolor": "#E5ECF6",
           "caxis": {
            "gridcolor": "white",
            "linecolor": "white",
            "ticks": ""
           }
          },
          "title": {
           "x": 0.05
          },
          "xaxis": {
           "automargin": true,
           "gridcolor": "white",
           "linecolor": "white",
           "ticks": "",
           "title": {
            "standoff": 15
           },
           "zerolinecolor": "white",
           "zerolinewidth": 2
          },
          "yaxis": {
           "automargin": true,
           "gridcolor": "white",
           "linecolor": "white",
           "ticks": "",
           "title": {
            "standoff": 15
           },
           "zerolinecolor": "white",
           "zerolinewidth": 2
          }
         }
        },
        "title": {
         "font": {
          "size": 16
         },
         "text": "Final Interactive Graph with Key Hubs Highlighted"
        },
        "xaxis": {
         "showgrid": false,
         "zeroline": false
        },
        "yaxis": {
         "showgrid": false,
         "zeroline": false
        }
       }
      }
     },
     "metadata": {},
     "output_type": "display_data"
    }
   ],
   "source": [
    "visualize_graph_interactive(graph, degree_centrality, title=\"Final Interactive Graph with Key Hubs Highlighted\")"
   ]
  },
  {
   "cell_type": "code",
   "execution_count": 167,
   "metadata": {},
   "outputs": [],
   "source": [
    "# csv_data = pd.read_csv(csv_file, sep=';')\n",
    "# csv_data['Connected On'] = pd.to_datetime(csv_data['Connected On'], dayfirst=True)\n",
    "# csv_data['Days Connected'] = (datetime.now() - csv_data['Connected On']).dt.days"
   ]
  },
  {
   "cell_type": "code",
   "execution_count": 168,
   "metadata": {},
   "outputs": [],
   "source": [
    "# json_structure = {}\n",
    "\n",
    "# # Agrupar os dados pelo campo \"URL\"\n",
    "# grouped = csv_data[csv_data['Company'] == \"Serasa Experian\"].groupby('URL')\n",
    "# # Reconstruir o JSON com base na empresa, listando pessoas que trabalham na mesma organização\n",
    "# json_structure_by_company = {}\n",
    "\n",
    "# # Iterar sobre cada URL e criar a lista de nomes por empresa\n",
    "# for url, group in grouped:\n",
    "#     # Identificar a empresa associada à URL\n",
    "#     company = group['Company'].iloc[0]  # Assumindo que todas as linhas no grupo têm a mesma empresa\n",
    "#     # Filtrar o dataset para encontrar todas as pessoas na mesma empresa\n",
    "#     coworkers = csv_data[csv_data['Company'] == company].apply(\n",
    "#         lambda x: f\"{x['First Name']} {x['Last Name']}\", axis=1\n",
    "#     ).tolist()\n",
    "#     # Adicionar ao JSON\n",
    "#     json_structure_by_company[url] = coworkers\n",
    "\n",
    "# # Exibir um exemplo da estrutura gerada\n",
    "# json_structure_by_company_example = {k: v for k, v in list(json_structure_by_company.items())}\n",
    "# json_structure_by_company_example\n"
   ]
  }
 ],
 "metadata": {
  "kernelspec": {
   "display_name": "small-world-linkedin-1bLGJuOL-py3.11",
   "language": "python",
   "name": "python3"
  },
  "language_info": {
   "codemirror_mode": {
    "name": "ipython",
    "version": 3
   },
   "file_extension": ".py",
   "mimetype": "text/x-python",
   "name": "python",
   "nbconvert_exporter": "python",
   "pygments_lexer": "ipython3",
   "version": "3.11.9"
  }
 },
 "nbformat": 4,
 "nbformat_minor": 2
}
