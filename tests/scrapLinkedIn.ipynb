{
 "cells": [
  {
   "cell_type": "markdown",
   "metadata": {},
   "source": [
    "# IMPORTA BIBLIOTECAS"
   ]
  },
  {
   "cell_type": "code",
   "execution_count": 54,
   "metadata": {},
   "outputs": [],
   "source": [
    "import time\n",
    "import json\n",
    "import pandas as pd\n",
    "import numpy as np\n",
    "from datetime import datetime\n",
    "\n",
    "from selenium import webdriver\n",
    "from selenium.webdriver.common.by import By\n",
    "from selenium.webdriver.common.keys import Keys\n",
    "from selenium.webdriver.chrome.service import Service\n",
    "from selenium.webdriver.chrome.options import Options\n",
    "from selenium.webdriver.support.ui import WebDriverWait\n",
    "from selenium.webdriver.support import expected_conditions as EC\n",
    "from selenium.common.exceptions import TimeoutException, NoSuchElementException\n",
    "\n",
    "\n",
    "from webdriver_manager.chrome import ChromeDriverManager\n",
    "from dotenv import load_dotenv\n",
    "import os"
   ]
  },
  {
   "cell_type": "code",
   "execution_count": 2,
   "metadata": {},
   "outputs": [],
   "source": [
    "# Carregar credenciais do arquivo .env\n",
    "load_dotenv()\n",
    "LINKEDIN_EMAIL = os.getenv(\"LINKEDIN_EMAIL\")\n",
    "LINKEDIN_PASSWORD = os.getenv(\"LINKEDIN_PASSWORD\")"
   ]
  },
  {
   "cell_type": "markdown",
   "metadata": {},
   "source": [
    "# CONFIGURAÇÃO DO AMBIENTE"
   ]
  },
  {
   "cell_type": "code",
   "execution_count": 3,
   "metadata": {},
   "outputs": [],
   "source": [
    "# Configuração do Selenium\n",
    "def setup_driver():\n",
    "    options = Options()\n",
    "    options.add_argument(\"--start-maximized\")\n",
    "    options.add_argument(\"--disable-notifications\")\n",
    "    service = Service(ChromeDriverManager().install())\n",
    "    driver = webdriver.Chrome(service=service, options=options)\n",
    "    return driver"
   ]
  },
  {
   "cell_type": "code",
   "execution_count": 4,
   "metadata": {},
   "outputs": [],
   "source": [
    "# Autenticar no LinkedIn\n",
    "def linkedin_login(driver):\n",
    "    driver.get(\"https://www.linkedin.com/login\")\n",
    "    time.sleep(2)\n",
    "\n",
    "    email_field = driver.find_element(By.ID, \"username\")\n",
    "    password_field = driver.find_element(By.ID, \"password\")\n",
    "\n",
    "    email_field.send_keys(LINKEDIN_EMAIL)\n",
    "    password_field.send_keys(LINKEDIN_PASSWORD)\n",
    "    password_field.send_keys(\"\\ue007\")  # Pressionar Enter\n",
    "    time.sleep(3)\n"
   ]
  },
  {
   "cell_type": "code",
   "execution_count": 5,
   "metadata": {},
   "outputs": [],
   "source": [
    "# Adicionar rolagem na página\n",
    "def scroll_down(driver):\n",
    "    driver.execute_script(\"window.scrollBy(0, 300);\")\n",
    "    time.sleep(0.5)  # Esperar um pouco para que novos elementos sejam carregados"
   ]
  },
  {
   "cell_type": "markdown",
   "metadata": {},
   "source": [
    "# PROCESSO DO SCRAPING"
   ]
  },
  {
   "cell_type": "code",
   "execution_count": 6,
   "metadata": {},
   "outputs": [],
   "source": [
    "# Extrair conexões\n",
    "def extract_connections(driver, profile_url):\n",
    "    driver.get(profile_url)\n",
    "    time.sleep(3)\n",
    "\n",
    "    extracted_data = {}\n",
    "\n",
    "    try:\n",
    "        # Clicar no link de conexões\n",
    "        WebDriverWait(driver, 10).until(\n",
    "            EC.element_to_be_clickable(\n",
    "                (\n",
    "                    By.CLASS_NAME,\n",
    "                    \"jBoWjCkDnQAudKFlfzuYKZdcceDKXE.inline-flex.align-items-center.link-without-hover-visited.pt2\",\n",
    "                )\n",
    "            )\n",
    "        ).click()\n",
    "        time.sleep(2)\n",
    "\n",
    "        # Inicializar a lista de nomes extraídos\n",
    "        names = []\n",
    "\n",
    "        while True:\n",
    "            # Extração dos nomes na página atual\n",
    "            name_elements = driver.find_elements(\n",
    "                By.CLASS_NAME,\n",
    "                \"sVERDkcTlYPzPQlJOoKTEBiRQdqFMDVxijI.KSOPGGTUwpqguKseMcspzYpZImxdaDTs \",\n",
    "            )\n",
    "            # print([name.text.split('\\n')[0] for name in name_elements if name.text])\n",
    "            names.extend(\n",
    "                [name.text.split(\"\\n\")[0] for name in name_elements if name.text]\n",
    "            )\n",
    "\n",
    "            # Tentar ir para a próxima página\n",
    "            try:\n",
    "                scroll_down(driver)\n",
    "                next_button = driver.find_element(\n",
    "                    By.XPATH, \"//button[@aria-label='Avançar']\"\n",
    "                )\n",
    "                if \"disabled\" in next_button.get_attribute(\"class\"):\n",
    "                    break  # Botão de próximo desabilitado, última página\n",
    "                next_button.click()\n",
    "                time.sleep(2)\n",
    "            except NoSuchElementException:\n",
    "                break  # Botão de próximo não encontrado, última página\n",
    "\n",
    "        # Adicionar ao dicionário de dados extraídos\n",
    "        extracted_data[profile_url] = names\n",
    "        print(\n",
    "            f\"Conexões extraídas para {profile_url}: {len(names)} conexões encontradas.\"\n",
    "        )\n",
    "\n",
    "    except Exception as e:\n",
    "        print(f\"Erro ao acessar {profile_url}: {e}\")\n",
    "\n",
    "    return extracted_data"
   ]
  },
  {
   "cell_type": "markdown",
   "metadata": {},
   "source": [
    "# CONSTRUÇÃO DO GRAFO"
   ]
  },
  {
   "cell_type": "code",
   "execution_count": 7,
   "metadata": {},
   "outputs": [],
   "source": [
    "# Iterar pelas conexões e salvar resultados em JSON\n",
    "def process_connections(file_path, output_path, driver):\n",
    "    connections_df = pd.read_csv(file_path, sep=\";\")\n",
    "    total = connections_df.shape[0]\n",
    "\n",
    "    try:\n",
    "        with open(output_path, \"r\", encoding=\"utf-8\") as json_file:\n",
    "            all_data = json.load(json_file)\n",
    "    except (FileNotFoundError, json.JSONDecodeError):\n",
    "        all_data = {}\n",
    "    \n",
    "\n",
    "    for index, row in connections_df.iterrows():\n",
    "        profile_url = row[\"URL\"]\n",
    "        # Ignorar perfis já processados\n",
    "        if profile_url in all_data:\n",
    "            print(f\"Perfil já processado: {row['First Name']} {row['Last Name']} => {profile_url}. Ignorando...\")\n",
    "            continue\n",
    "\n",
    "        print(f\"Processando {index + 1}/{total}: {row['First Name']} {row['Last Name']} => {profile_url} ==> {datetime.now()}\")\n",
    "\n",
    "        data = extract_connections(driver, profile_url)\n",
    "        all_data.update(data)\n",
    "\n",
    "        # Salvar os dados extraídos em um arquivo JSON\n",
    "        with open(output_path, \"w\", encoding=\"utf-8\") as json_file:\n",
    "            json.dump(all_data, json_file, ensure_ascii=False, indent=4)\n",
    "\n",
    "    print(f\"Dados salvos em {output_path}\")\n",
    "    return all_data"
   ]
  },
  {
   "cell_type": "markdown",
   "metadata": {},
   "source": [
    "# DEFINIÇÃO DO PIPELINE"
   ]
  },
  {
   "cell_type": "code",
   "execution_count": 8,
   "metadata": {},
   "outputs": [],
   "source": [
    "# Pipeline principal\n",
    "def run_pipeline(file_path, output_path):\n",
    "    # Configurações de entrada e saída\n",
    "    # file_path = \"Connections.csv\"  # Substitua pelo caminho correto\n",
    "    # output_path = \"extracted_connections.json\"  # Nome do arquivo de saída\n",
    "\n",
    "    print(f\"Processo Iniciado ==> {datetime.now()}\")\n",
    "    print(50 * \"==\")\n",
    "\n",
    "    # Configuração do Selenium\n",
    "    driver = setup_driver()\n",
    "    print(f\"Driver Configurado ==> {datetime.now()}\")\n",
    "    print(50 * \"==\")\n",
    "\n",
    "    # Login no LinkedIn\n",
    "    linkedin_login(driver)\n",
    "    print(f\"Login Realizado ==> {datetime.now()}\")\n",
    "    print(50 * \"==\")\n",
    "\n",
    "    # Processar conexões e salvar dados\n",
    "    all_data = process_connections(file_path, output_path, driver)\n",
    "    print(50 * \"==\")\n",
    "    \n",
    "    print(f\"Finalizado Processamento ==> {datetime.now()}\")\n",
    "    # Fechar o navegador\n",
    "    driver.quit()\n",
    "\n",
    "    return all_data"
   ]
  },
  {
   "cell_type": "markdown",
   "metadata": {},
   "source": [
    "# EXECUÇÃO DO PROCESSO"
   ]
  },
  {
   "cell_type": "code",
   "execution_count": 9,
   "metadata": {},
   "outputs": [],
   "source": [
    "# Executar no Jupyter Notebook\n",
    "file_path = (\n",
    "    \"..\\small_world_linkedin\\data\\linkedin_urls.csv\"  # Substitua pelo caminho correto\n",
    ")\n",
    "output_path = (\n",
    "    \"..\\small_world_linkedin\\data\\linkedin_graph.json\"  # Nome do arquivo de saída\n",
    ")"
   ]
  },
  {
   "cell_type": "code",
   "execution_count": null,
   "metadata": {},
   "outputs": [],
   "source": [
    "all_data = run_pipeline(file_path, output_path)"
   ]
  },
  {
   "cell_type": "markdown",
   "metadata": {},
   "source": [
    "# TESTES DE UNIFICAÇÂO"
   ]
  },
  {
   "cell_type": "code",
   "execution_count": 51,
   "metadata": {},
   "outputs": [],
   "source": [
    "import networkx as nx\n",
    "from pyvis.network import Network\n",
    "import matplotlib.pyplot as plt\n",
    "import plotly.graph_objects as go\n",
    "from scipy.stats import powerlaw, kstest"
   ]
  },
  {
   "cell_type": "markdown",
   "metadata": {},
   "source": [
    "## PROCESS DATA"
   ]
  },
  {
   "cell_type": "code",
   "execution_count": 83,
   "metadata": {},
   "outputs": [],
   "source": [
    "def process_data(json_file, csv_file):\n",
    "    # Carregar JSON\n",
    "    with open(json_file, 'r', encoding='utf-8') as file:\n",
    "        json_data = json.load(file)\n",
    "    \n",
    "    # Carregar CSV\n",
    "    csv_data = pd.read_csv(csv_file, sep=';')\n",
    "    csv_data['Connected On'] = pd.to_datetime(csv_data['Connected On'], dayfirst=True)\n",
    "    csv_data['Days Connected'] = (datetime.now() - csv_data['Connected On']).dt.days\n",
    "    \n",
    "    # Criar um DataFrame para os relacionamentos do JSON\n",
    "    relationships = []\n",
    "    for url, names in json_data.items():\n",
    "        for name in names:\n",
    "            relationships.append({\"URL\": url, \"Connection Name\": name})\n",
    "    \n",
    "    json_df = pd.DataFrame(relationships)\n",
    "    \n",
    "    # Mesclar os dois DataFrames usando o campo \"URL\"\n",
    "    combined_df = pd.merge(csv_data, json_df, on=\"URL\", how=\"inner\")\n",
    "    \n",
    "    return combined_df\n"
   ]
  },
  {
   "cell_type": "markdown",
   "metadata": {},
   "source": [
    "## CREATE GRAPH"
   ]
  },
  {
   "cell_type": "code",
   "execution_count": 33,
   "metadata": {},
   "outputs": [],
   "source": [
    "# Função para criar e exibir o grafo\n",
    "def create_graph(dataframe):\n",
    "    # Criar o grafo\n",
    "    graph = nx.Graph()\n",
    "    \n",
    "    # Adicionar nós e arestas no grafo\n",
    "    for _, row in dataframe.iterrows():\n",
    "        # Nó principal (do CSV)\n",
    "        main_node = f'{row[\"First Name\"]} {row[\"Last Name\"]}'\n",
    "        graph.add_node(main_node, \n",
    "                       title=f'Company: {row[\"Company\"]}, Position: {row[\"Position\"]}, Days Connected: {row[\"Days Connected\"]}',\n",
    "                       group=\"Main\")\n",
    "        \n",
    "        # Nós de conexão (do JSON)\n",
    "        connection_node = row[\"Connection Name\"]\n",
    "        graph.add_node(connection_node, group=\"Connection\")\n",
    "        \n",
    "        # Aresta entre o nó principal e o nó de conexão\n",
    "        graph.add_edge(main_node, connection_node)\n",
    "    \n",
    "    # Configurar visualização com pyvis\n",
    "    net = Network(notebook=True, height=\"750px\", width=\"100%\", bgcolor=\"#222222\", font_color=\"white\")\n",
    "    net.from_nx(graph)\n",
    "    net.show_buttons(filter_=['physics'])\n",
    "    net.show(\"connections_graph.html\")\n",
    "    return graph"
   ]
  },
  {
   "cell_type": "markdown",
   "metadata": {},
   "source": [
    "## MEASURE GRAPH"
   ]
  },
  {
   "cell_type": "code",
   "execution_count": 93,
   "metadata": {},
   "outputs": [],
   "source": [
    "# Step 4: Analyze the graph\n",
    "def analyze_graph(G):\n",
    "    clustering_coefficient = nx.average_clustering(G)\n",
    "    average_path_length = nx.average_shortest_path_length(G) if nx.is_connected(G) else None\n",
    "    return clustering_coefficient, average_path_length"
   ]
  },
  {
   "cell_type": "code",
   "execution_count": 94,
   "metadata": {},
   "outputs": [],
   "source": [
    "# Step 5: Identify key influencers\n",
    "def compute_centrality_measures(G):\n",
    "    degree_centrality = nx.degree_centrality(G)\n",
    "    betweenness_centrality = nx.betweenness_centrality(G)\n",
    "    eigenvector_centrality = nx.eigenvector_centrality(G)\n",
    "\n",
    "    centrality_df = pd.DataFrame({\n",
    "        'Node': list(G.nodes),\n",
    "        'Degree Centrality': degree_centrality.values(),\n",
    "        'Betweenness Centrality': betweenness_centrality.values(),\n",
    "        'Eigenvector Centrality': eigenvector_centrality.values(),\n",
    "        'Days Connected': [G.nodes[node].get(\"Days Connected\", None) for node in G.nodes()]\n",
    "    })\n",
    "\n",
    "    top_influencers = centrality_df.sort_values(by='Degree Centrality', ascending=False).head(10)\n",
    "    return top_influencers, degree_centrality"
   ]
  },
  {
   "cell_type": "code",
   "execution_count": 36,
   "metadata": {},
   "outputs": [],
   "source": [
    "# Step 6: Visualize degree distribution\n",
    "def plot_degree_distribution(G):\n",
    "    degrees = [degree for _, degree in G.degree()]\n",
    "    plt.figure(figsize=(8, 6))\n",
    "    plt.hist(degrees, bins=range(1, max(degrees) + 2), align='left', edgecolor='black')\n",
    "    plt.title(\"Degree Distribution\")\n",
    "    plt.xlabel(\"Degree\")\n",
    "    plt.ylabel(\"Frequency\")\n",
    "    plt.show()\n",
    "\n",
    "    # Check for scale-free network\n",
    "    plt.figure(figsize=(8, 6))\n",
    "    plt.loglog(sorted(degrees, reverse=True), marker='o', linestyle='None')\n",
    "    plt.title(\"Log-Log Plot of Degree Distribution\")\n",
    "    plt.xlabel(\"Degree\")\n",
    "    plt.ylabel(\"Frequency\")\n",
    "    plt.show()\n",
    "\n",
    "    # Fit power-law distribution (ensure dataset size is sufficient)\n",
    "    if len(degrees) < 30:\n",
    "        print(\"Dataset too small to reliably fit a power-law distribution.\")\n",
    "        return\n",
    "\n",
    "    degrees = np.array(degrees)\n",
    "    alpha, loc, scale = powerlaw.fit(degrees)\n",
    "\n",
    "    # Plot power-law fit\n",
    "    plt.figure(figsize=(8, 6))\n",
    "    plt.hist(degrees, bins=30, density=True, alpha=0.7, label='Degree Distribution')\n",
    "    x = np.linspace(min(degrees), max(degrees), 100)\n",
    "    plt.plot(x, powerlaw.pdf(x, alpha, loc, scale), 'r-', label=f'Power Law Fit (α={alpha:.2f})')\n",
    "    plt.xlabel(\"Degree\")\n",
    "    plt.ylabel(\"Density\")\n",
    "    plt.legend()\n",
    "    plt.title(\"Degree Distribution and Power Law Fit\")\n",
    "    plt.show()\n",
    "\n",
    "    # Perform Kolmogorov-Smirnov test\n",
    "    D, p_value = kstest(degrees, 'powerlaw', args=(alpha, loc, scale))\n",
    "    print(f\"Kolmogorov-Smirnov Test: D = {D}, p-value = {p_value}\")"
   ]
  },
  {
   "cell_type": "code",
   "execution_count": 35,
   "metadata": {},
   "outputs": [],
   "source": [
    "# Step 7: Visualize the graph interactively with key hubs highlighted\n",
    "def visualize_graph_interactive(G, degree_centrality, title=\"Graph Visualization\"):\n",
    "    pos = nx.spring_layout(G, weight='weight')\n",
    "\n",
    "    # Extracting edge and node information for Plotly\n",
    "    edge_x = []\n",
    "    edge_y = []\n",
    "    edge_weights = []\n",
    "    filtered_edges = [edge for edge in G.edges(data=True) if edge[2].get('weight', 1) > 1]\n",
    "    for edge in filtered_edges:\n",
    "        x0, y0 = pos[edge[0]]\n",
    "        x1, y1 = pos[edge[1]]\n",
    "        edge_x.append(x0)\n",
    "        edge_x.append(x1)\n",
    "        edge_x.append(None)\n",
    "        edge_y.append(y0)\n",
    "        edge_y.append(y1)\n",
    "        edge_y.append(None)\n",
    "        edge_weights.append(edge[2].get('weight', 1))\n",
    "\n",
    "    edge_trace = go.Scatter(\n",
    "        x=edge_x, y=edge_y,\n",
    "        line=dict(width=0.5, color='#888'),\n",
    "        hoverinfo='none',\n",
    "        mode='lines')\n",
    "\n",
    "    # Assigning node colors and sizes based on company\n",
    "    company_colors = {company: f\"hsl({i * 360 / len(set(nx.get_node_attributes(G, 'company').values()))}, 70%, 50%)\" \n",
    "                      for i, company in enumerate(set(nx.get_node_attributes(G, 'company').values()))}\n",
    "\n",
    "    node_x = []\n",
    "    node_y = []\n",
    "    node_text = []\n",
    "    node_color = []\n",
    "    node_size = []\n",
    "\n",
    "    for node in G.nodes():\n",
    "        x, y = pos[node]\n",
    "        node_x.append(x)\n",
    "        node_y.append(y)\n",
    "        node_text.append(f\"{node}<br>Company: {G.nodes[node].get('company', 'N/A')}<br>Degree Centrality: {degree_centrality[node]:.4f}<br>Days Connected: {G.nodes[node].get('days_connected', 'N/A')}\")\n",
    "        node_color.append(company_colors.get(G.nodes[node].get('company', 'N/A'), '#cccccc'))\n",
    "        node_size.append(10)\n",
    "\n",
    "    node_trace = go.Scatter(\n",
    "        x=node_x, y=node_y,\n",
    "        mode='markers',\n",
    "        hoverinfo='text',\n",
    "        text=node_text,\n",
    "        marker=dict(\n",
    "            showscale=False,\n",
    "            color=node_color,\n",
    "            size=node_size,\n",
    "            line_width=2))\n",
    "\n",
    "    fig = go.Figure(data=[edge_trace, node_trace],\n",
    "                 layout=go.Layout(\n",
    "                    title=title,\n",
    "                    titlefont_size=16,\n",
    "                    showlegend=False,\n",
    "                    hovermode='closest',\n",
    "                    margin=dict(b=0,l=0,r=0,t=40),\n",
    "                    xaxis=dict(showgrid=False, zeroline=False),\n",
    "                    yaxis=dict(showgrid=False, zeroline=False)))\n",
    "\n",
    "    fig.show()\n"
   ]
  },
  {
   "cell_type": "markdown",
   "metadata": {},
   "source": [
    "## RUN PROCESS"
   ]
  },
  {
   "cell_type": "code",
   "execution_count": 7,
   "metadata": {},
   "outputs": [],
   "source": [
    "# Arquivos de entrada\n",
    "json_file = \"..\\small_world_linkedin\\data\\linkedin_graph.json\"  # Substitua pelo caminho do arquivo JSON\n",
    "csv_file = \"..\\small_world_linkedin\\data\\linkedin_v3.csv\"    # Substitua pelo caminho do arquivo CSV\n"
   ]
  },
  {
   "cell_type": "code",
   "execution_count": 122,
   "metadata": {},
   "outputs": [],
   "source": [
    "# Processar os dados\n",
    "combined_data = process_data(json_file, csv_file)\n",
    "\n"
   ]
  },
  {
   "cell_type": "code",
   "execution_count": 123,
   "metadata": {},
   "outputs": [
    {
     "name": "stdout",
     "output_type": "stream",
     "text": [
      "Warning: When  cdn_resources is 'local' jupyter notebook has issues displaying graphics on chrome/safari. Use cdn_resources='in_line' or cdn_resources='remote' if you have issues viewing graphics in a notebook.\n",
      "connections_graph.html\n"
     ]
    }
   ],
   "source": [
    "# Criar e exibir o grafo\n",
    "graph = create_graph(combined_data)"
   ]
  },
  {
   "cell_type": "code",
   "execution_count": 124,
   "metadata": {},
   "outputs": [
    {
     "name": "stdout",
     "output_type": "stream",
     "text": [
      "Clustering Coefficient: 0.06005273140829153\n",
      "Average Path Length: 3.0228927203065132\n"
     ]
    }
   ],
   "source": [
    "clustering_coefficient, average_path_length = analyze_graph(graph)\n",
    "print(f\"Clustering Coefficient: {clustering_coefficient}\")\n",
    "if average_path_length is not None:\n",
    "    print(f\"Average Path Length: {average_path_length}\")\n",
    "else:\n",
    "    print(\"Graph is not connected; cannot compute average path length.\")"
   ]
  },
  {
   "cell_type": "code",
   "execution_count": 125,
   "metadata": {},
   "outputs": [],
   "source": [
    "top_influencers, degree_centrality = compute_centrality_measures(graph)"
   ]
  },
  {
   "cell_type": "code",
   "execution_count": 126,
   "metadata": {},
   "outputs": [
    {
     "data": {
      "text/html": [
       "<div>\n",
       "<style scoped>\n",
       "    .dataframe tbody tr th:only-of-type {\n",
       "        vertical-align: middle;\n",
       "    }\n",
       "\n",
       "    .dataframe tbody tr th {\n",
       "        vertical-align: top;\n",
       "    }\n",
       "\n",
       "    .dataframe thead th {\n",
       "        text-align: right;\n",
       "    }\n",
       "</style>\n",
       "<table border=\"1\" class=\"dataframe\">\n",
       "  <thead>\n",
       "    <tr style=\"text-align: right;\">\n",
       "      <th></th>\n",
       "      <th>Node</th>\n",
       "      <th>Degree Centrality</th>\n",
       "      <th>Betweenness Centrality</th>\n",
       "      <th>Eigenvector Centrality</th>\n",
       "      <th>Days Connected</th>\n",
       "    </tr>\n",
       "  </thead>\n",
       "  <tbody>\n",
       "    <tr>\n",
       "      <th>47</th>\n",
       "      <td>3M REGULADORA REGULADORA DE SINISTROS</td>\n",
       "      <td>0.555556</td>\n",
       "      <td>0.710778</td>\n",
       "      <td>0.650475</td>\n",
       "      <td>None</td>\n",
       "    </tr>\n",
       "    <tr>\n",
       "      <th>19</th>\n",
       "      <td>Érika Lemos Katsuragi</td>\n",
       "      <td>0.250000</td>\n",
       "      <td>0.328369</td>\n",
       "      <td>0.138437</td>\n",
       "      <td>None</td>\n",
       "    </tr>\n",
       "    <tr>\n",
       "      <th>137</th>\n",
       "      <td>Jose Goggi</td>\n",
       "      <td>0.125000</td>\n",
       "      <td>0.070426</td>\n",
       "      <td>0.153529</td>\n",
       "      <td>None</td>\n",
       "    </tr>\n",
       "    <tr>\n",
       "      <th>0</th>\n",
       "      <td>Ângela Fraga</td>\n",
       "      <td>0.125000</td>\n",
       "      <td>0.114531</td>\n",
       "      <td>0.083836</td>\n",
       "      <td>None</td>\n",
       "    </tr>\n",
       "    <tr>\n",
       "      <th>126</th>\n",
       "      <td>Bruno Garcia</td>\n",
       "      <td>0.118056</td>\n",
       "      <td>0.067159</td>\n",
       "      <td>0.098523</td>\n",
       "      <td>None</td>\n",
       "    </tr>\n",
       "    <tr>\n",
       "      <th>122</th>\n",
       "      <td>Abraão Diniz</td>\n",
       "      <td>0.104167</td>\n",
       "      <td>0.067159</td>\n",
       "      <td>0.088975</td>\n",
       "      <td>None</td>\n",
       "    </tr>\n",
       "    <tr>\n",
       "      <th>7</th>\n",
       "      <td>Guilherme Lourenco</td>\n",
       "      <td>0.062500</td>\n",
       "      <td>0.149156</td>\n",
       "      <td>0.154675</td>\n",
       "      <td>None</td>\n",
       "    </tr>\n",
       "    <tr>\n",
       "      <th>117</th>\n",
       "      <td>Abel Tavares</td>\n",
       "      <td>0.062500</td>\n",
       "      <td>0.038947</td>\n",
       "      <td>0.059127</td>\n",
       "      <td>None</td>\n",
       "    </tr>\n",
       "    <tr>\n",
       "      <th>141</th>\n",
       "      <td>Karen Fernandes M. Beltran</td>\n",
       "      <td>0.062500</td>\n",
       "      <td>0.045425</td>\n",
       "      <td>0.070646</td>\n",
       "      <td>None</td>\n",
       "    </tr>\n",
       "    <tr>\n",
       "      <th>11</th>\n",
       "      <td>Guilherme Cherácomo</td>\n",
       "      <td>0.055556</td>\n",
       "      <td>0.089207</td>\n",
       "      <td>0.114160</td>\n",
       "      <td>None</td>\n",
       "    </tr>\n",
       "  </tbody>\n",
       "</table>\n",
       "</div>"
      ],
      "text/plain": [
       "                                      Node  Degree Centrality  \\\n",
       "47   3M REGULADORA REGULADORA DE SINISTROS           0.555556   \n",
       "19                   Érika Lemos Katsuragi           0.250000   \n",
       "137                             Jose Goggi           0.125000   \n",
       "0                             Ângela Fraga           0.125000   \n",
       "126                           Bruno Garcia           0.118056   \n",
       "122                           Abraão Diniz           0.104167   \n",
       "7                       Guilherme Lourenco           0.062500   \n",
       "117                           Abel Tavares           0.062500   \n",
       "141             Karen Fernandes M. Beltran           0.062500   \n",
       "11                     Guilherme Cherácomo           0.055556   \n",
       "\n",
       "     Betweenness Centrality  Eigenvector Centrality Days Connected  \n",
       "47                 0.710778                0.650475           None  \n",
       "19                 0.328369                0.138437           None  \n",
       "137                0.070426                0.153529           None  \n",
       "0                  0.114531                0.083836           None  \n",
       "126                0.067159                0.098523           None  \n",
       "122                0.067159                0.088975           None  \n",
       "7                  0.149156                0.154675           None  \n",
       "117                0.038947                0.059127           None  \n",
       "141                0.045425                0.070646           None  \n",
       "11                 0.089207                0.114160           None  "
      ]
     },
     "execution_count": 126,
     "metadata": {},
     "output_type": "execute_result"
    }
   ],
   "source": [
    "top_influencers"
   ]
  },
  {
   "cell_type": "code",
   "execution_count": 127,
   "metadata": {},
   "outputs": [
    {
     "data": {
      "image/png": "[encoded data removed]",
      "text/plain": [
       "<Figure size 800x600 with 1 Axes>"
      ]
     },
     "metadata": {},
     "output_type": "display_data"
    },
    {
     "data": {
      "image/png": "[encoded data removed]",
      "text/plain": [
       "<Figure size 800x600 with 1 Axes>"
      ]
     },
     "metadata": {},
     "output_type": "display_data"
    },
    {
     "data": {
      "image/png": "[encoded data removed]",
      "text/plain": [
       "<Figure size 800x600 with 1 Axes>"
      ]
     },
     "metadata": {},
     "output_type": "display_data"
    },
    {
     "name": "stdout",
     "output_type": "stream",
     "text": [
      "Kolmogorov-Smirnov Test: D = 0.42255776238860854, p-value = 5.3996393610386394e-24\n"
     ]
    }
   ],
   "source": [
    "plot_degree_distribution(graph)"
   ]
  },
  {
   "cell_type": "code",
   "execution_count": 128,
   "metadata": {},
   "outputs": [
    {
     "data": {
      "application/vnd.plotly.v1+json": {
       "config": {
        "plotlyServerURL": "https://plot.ly"
       },
       "data": [
        {
         "hoverinfo": "none",
         "line": {
          "color": "#888",
          "width": 0.5
         },
         "mode": "lines",
         "type": "scatter",
         "x": [],
         "y": []
        },
        {
         "hoverinfo": "text",
         "marker": {
          "color": [
           "#cccccc",
           "#cccccc",
           "#cccccc",
           "#cccccc",
           "#cccccc",
           "#cccccc",
           "#cccccc",
           "#cccccc",
           "#cccccc",
           "#cccccc",
           "#cccccc",
           "#cccccc",
           "#cccccc",
           "#cccccc",
           "#cccccc",
           "#cccccc",
           "#cccccc",
           "#cccccc",
           "#cccccc",
           "#cccccc",
           "#cccccc",
           "#cccccc",
           "#cccccc",
           "#cccccc",
           "#cccccc",
           "#cccccc",
           "#cccccc",
           "#cccccc",
           "#cccccc",
           "#cccccc",
           "#cccccc",
           "#cccccc",
           "#cccccc",
           "#cccccc",
           "#cccccc",
           "#cccccc",
           "#cccccc",
           "#cccccc",
           "#cccccc",
           "#cccccc",
           "#cccccc",
           "#cccccc",
           "#cccccc",
           "#cccccc",
           "#cccccc",
           "#cccccc",
           "#cccccc",
           "#cccccc",
           "#cccccc",
           "#cccccc",
           "#cccccc",
           "#cccccc",
           "#cccccc",
           "#cccccc",
           "#cccccc",
           "#cccccc",
           "#cccccc",
           "#cccccc",
           "#cccccc",
           "#cccccc",
           "#cccccc",
           "#cccccc",
           "#cccccc",
           "#cccccc",
           "#cccccc",
           "#cccccc",
           "#cccccc",
           "#cccccc",
           "#cccccc",
           "#cccccc",
           "#cccccc",
           "#cccccc",
           "#cccccc",
           "#cccccc",
           "#cccccc",
           "#cccccc",
           "#cccccc",
           "#cccccc",
           "#cccccc",
           "#cccccc",
           "#cccccc",
           "#cccccc",
           "#cccccc",
           "#cccccc",
           "#cccccc",
           "#cccccc",
           "#cccccc",
           "#cccccc",
           "#cccccc",
           "#cccccc",
           "#cccccc",
           "#cccccc",
           "#cccccc",
           "#cccccc",
           "#cccccc",
           "#cccccc",
           "#cccccc",
           "#cccccc",
           "#cccccc",
           "#cccccc",
           "#cccccc",
           "#cccccc",
           "#cccccc",
           "#cccccc",
           "#cccccc",
           "#cccccc",
           "#cccccc",
           "#cccccc",
           "#cccccc",
           "#cccccc",
           "#cccccc",
           "#cccccc",
           "#cccccc",
           "#cccccc",
           "#cccccc",
           "#cccccc",
           "#cccccc",
           "#cccccc",
           "#cccccc",
           "#cccccc",
           "#cccccc",
           "#cccccc",
           "#cccccc",
           "#cccccc",
           "#cccccc",
           "#cccccc",
           "#cccccc",
           "#cccccc",
           "#cccccc",
           "#cccccc",
           "#cccccc",
           "#cccccc",
           "#cccccc",
           "#cccccc",
           "#cccccc",
           "#cccccc",
           "#cccccc",
           "#cccccc",
           "#cccccc",
           "#cccccc",
           "#cccccc",
           "#cccccc",
           "#cccccc",
           "#cccccc",
           "#cccccc"
          ],
          "line": {
           "width": 2
          },
          "showscale": false,
          "size": [
           10,
           10,
           10,
           10,
           10,
           10,
           10,
           10,
           10,
           10,
           10,
           10,
           10,
           10,
           10,
           10,
           10,
           10,
           10,
           10,
           10,
           10,
           10,
           10,
           10,
           10,
           10,
           10,
           10,
           10,
           10,
           10,
           10,
           10,
           10,
           10,
           10,
           10,
           10,
           10,
           10,
           10,
           10,
           10,
           10,
           10,
           10,
           10,
           10,
           10,
           10,
           10,
           10,
           10,
           10,
           10,
           10,
           10,
           10,
           10,
           10,
           10,
           10,
           10,
           10,
           10,
           10,
           10,
           10,
           10,
           10,
           10,
           10,
           10,
           10,
           10,
           10,
           10,
           10,
           10,
           10,
           10,
           10,
           10,
           10,
           10,
           10,
           10,
           10,
           10,
           10,
           10,
           10,
           10,
           10,
           10,
           10,
           10,
           10,
           10,
           10,
           10,
           10,
           10,
           10,
           10,
           10,
           10,
           10,
           10,
           10,
           10,
           10,
           10,
           10,
           10,
           10,
           10,
           10,
           10,
           10,
           10,
           10,
           10,
           10,
           10,
           10,
           10,
           10,
           10,
           10,
           10,
           10,
           10,
           10,
           10,
           10,
           10,
           10,
           10,
           10,
           10,
           10,
           10,
           10
          ]
         },
         "mode": "markers",
         "text": [
          "Ângela Fraga<br>Company: N/A<br>Degree Centrality: 0.1250<br>Days Connected: N/A",
          "JOAQUIM FERNANDO AMÂNCIO DE MORAIS<br>Company: N/A<br>Degree Centrality: 0.0069<br>Days Connected: N/A",
          "Clayton Silva Sousa<br>Company: N/A<br>Degree Centrality: 0.0069<br>Days Connected: N/A",
          "Rodrigo Bedutti da Silva<br>Company: N/A<br>Degree Centrality: 0.0069<br>Days Connected: N/A",
          "Boás Lira Gomes<br>Company: N/A<br>Degree Centrality: 0.0069<br>Days Connected: N/A",
          "Patrícia Bolani<br>Company: N/A<br>Degree Centrality: 0.0069<br>Days Connected: N/A",
          "Renan Sassi<br>Company: N/A<br>Degree Centrality: 0.0139<br>Days Connected: N/A",
          "Guilherme Lourenco<br>Company: N/A<br>Degree Centrality: 0.0625<br>Days Connected: N/A",
          "Alexandro Ricardo<br>Company: N/A<br>Degree Centrality: 0.0069<br>Days Connected: N/A",
          "Benedito Brochado Junior<br>Company: N/A<br>Degree Centrality: 0.0139<br>Days Connected: N/A",
          "Pedro Alencar<br>Company: N/A<br>Degree Centrality: 0.0139<br>Days Connected: N/A",
          "Guilherme Cherácomo<br>Company: N/A<br>Degree Centrality: 0.0556<br>Days Connected: N/A",
          "Claudia Leocadio<br>Company: N/A<br>Degree Centrality: 0.0139<br>Days Connected: N/A",
          "Diego Trevisan<br>Company: N/A<br>Degree Centrality: 0.0139<br>Days Connected: N/A",
          "Grazielle Cerqueira<br>Company: N/A<br>Degree Centrality: 0.0139<br>Days Connected: N/A",
          "Alexandre Leite<br>Company: N/A<br>Degree Centrality: 0.0208<br>Days Connected: N/A",
          "Leonardo Semenovitch<br>Company: N/A<br>Degree Centrality: 0.0139<br>Days Connected: N/A",
          "Marcelo Pavani<br>Company: N/A<br>Degree Centrality: 0.0139<br>Days Connected: N/A",
          "Marcus Vinicius Monteiro Soares<br>Company: N/A<br>Degree Centrality: 0.0139<br>Days Connected: N/A",
          "Érika Lemos Katsuragi<br>Company: N/A<br>Degree Centrality: 0.2500<br>Days Connected: N/A",
          "Rafael Moraes<br>Company: N/A<br>Degree Centrality: 0.0069<br>Days Connected: N/A",
          "Clarindo Sal<br>Company: N/A<br>Degree Centrality: 0.0069<br>Days Connected: N/A",
          "Rodrigo Sampaio<br>Company: N/A<br>Degree Centrality: 0.0069<br>Days Connected: N/A",
          "Aline Cristine Juventino<br>Company: N/A<br>Degree Centrality: 0.0069<br>Days Connected: N/A",
          "João Paulo Souza<br>Company: N/A<br>Degree Centrality: 0.0069<br>Days Connected: N/A",
          "Rosane Ananias<br>Company: N/A<br>Degree Centrality: 0.0069<br>Days Connected: N/A",
          "Danilo de Oliveira<br>Company: N/A<br>Degree Centrality: 0.0069<br>Days Connected: N/A",
          "José Henrique Dell'Osso Cordeiro, MSc<br>Company: N/A<br>Degree Centrality: 0.0069<br>Days Connected: N/A",
          "Andre Diniz<br>Company: N/A<br>Degree Centrality: 0.0069<br>Days Connected: N/A",
          "Heitor Scalabrini Sampaio<br>Company: N/A<br>Degree Centrality: 0.0069<br>Days Connected: N/A",
          "Renata Demestres<br>Company: N/A<br>Degree Centrality: 0.0069<br>Days Connected: N/A",
          "Cinthia Borges<br>Company: N/A<br>Degree Centrality: 0.0069<br>Days Connected: N/A",
          "Gabriela Melo Baldonado<br>Company: N/A<br>Degree Centrality: 0.0069<br>Days Connected: N/A",
          "Anderson Lopes Pereira<br>Company: N/A<br>Degree Centrality: 0.0069<br>Days Connected: N/A",
          "Silvio Bogsan<br>Company: N/A<br>Degree Centrality: 0.0139<br>Days Connected: N/A",
          "Maria Aparecida Lino<br>Company: N/A<br>Degree Centrality: 0.0069<br>Days Connected: N/A",
          "Luciana Polita<br>Company: N/A<br>Degree Centrality: 0.0069<br>Days Connected: N/A",
          "Suellen Souza<br>Company: N/A<br>Degree Centrality: 0.0069<br>Days Connected: N/A",
          "Edson Martins<br>Company: N/A<br>Degree Centrality: 0.0069<br>Days Connected: N/A",
          "Juliana Sabrina dos Santos<br>Company: N/A<br>Degree Centrality: 0.0139<br>Days Connected: N/A",
          "Prof. ERaldo Santos<br>Company: N/A<br>Degree Centrality: 0.0069<br>Days Connected: N/A",
          "Fabio Rafael de Almeida Beato Filho<br>Company: N/A<br>Degree Centrality: 0.0069<br>Days Connected: N/A",
          "Aline A. Luz Silva<br>Company: N/A<br>Degree Centrality: 0.0417<br>Days Connected: N/A",
          "Antonio Alvarenga<br>Company: N/A<br>Degree Centrality: 0.0208<br>Days Connected: N/A",
          "Renan Barros<br>Company: N/A<br>Degree Centrality: 0.0069<br>Days Connected: N/A",
          "Marcia Calicchio<br>Company: N/A<br>Degree Centrality: 0.0069<br>Days Connected: N/A",
          "Madeleine Bertechini Rodrigues Dias<br>Company: N/A<br>Degree Centrality: 0.0139<br>Days Connected: N/A",
          "3M REGULADORA REGULADORA DE SINISTROS<br>Company: N/A<br>Degree Centrality: 0.5556<br>Days Connected: N/A",
          "Fabio Miranda dos Santos<br>Company: N/A<br>Degree Centrality: 0.0069<br>Days Connected: N/A",
          "William Kwong Huang<br>Company: N/A<br>Degree Centrality: 0.0069<br>Days Connected: N/A",
          "Sabrina Arce<br>Company: N/A<br>Degree Centrality: 0.0069<br>Days Connected: N/A",
          "Alexandre Cesario Vieira<br>Company: N/A<br>Degree Centrality: 0.0069<br>Days Connected: N/A",
          "Humberto Moreno Camelo<br>Company: N/A<br>Degree Centrality: 0.0069<br>Days Connected: N/A",
          "Thiago Quadrini Propércio<br>Company: N/A<br>Degree Centrality: 0.0069<br>Days Connected: N/A",
          "Felipe Rubim De Andrade<br>Company: N/A<br>Degree Centrality: 0.0069<br>Days Connected: N/A",
          "Márcio Trindade<br>Company: N/A<br>Degree Centrality: 0.0069<br>Days Connected: N/A",
          "Antonio Everton de Souza Junior<br>Company: N/A<br>Degree Centrality: 0.0069<br>Days Connected: N/A",
          "Leonardo Ponciano<br>Company: N/A<br>Degree Centrality: 0.0069<br>Days Connected: N/A",
          "Emerson Cardoso<br>Company: N/A<br>Degree Centrality: 0.0069<br>Days Connected: N/A",
          "Marcio André Meneses de Carvalho<br>Company: N/A<br>Degree Centrality: 0.0069<br>Days Connected: N/A",
          "Tânia Kimiko Sadoiama Lima<br>Company: N/A<br>Degree Centrality: 0.0069<br>Days Connected: N/A",
          "José Vicente Gomes da Silva<br>Company: N/A<br>Degree Centrality: 0.0069<br>Days Connected: N/A",
          "Carolyna Christiee Sposaro<br>Company: N/A<br>Degree Centrality: 0.0069<br>Days Connected: N/A",
          "Marcos Martins da Silva<br>Company: N/A<br>Degree Centrality: 0.0069<br>Days Connected: N/A",
          "Flávia Rodrigues de Almeida Trinca<br>Company: N/A<br>Degree Centrality: 0.0069<br>Days Connected: N/A",
          "Amanda Souza Noronha<br>Company: N/A<br>Degree Centrality: 0.0208<br>Days Connected: N/A",
          "fabio pinto<br>Company: N/A<br>Degree Centrality: 0.0139<br>Days Connected: N/A",
          "Rafael Ramos<br>Company: N/A<br>Degree Centrality: 0.0139<br>Days Connected: N/A",
          "Lucas Trindade<br>Company: N/A<br>Degree Centrality: 0.0139<br>Days Connected: N/A",
          "Everton Bernardo<br>Company: N/A<br>Degree Centrality: 0.0069<br>Days Connected: N/A",
          "Marcelo dos Santos Farias<br>Company: N/A<br>Degree Centrality: 0.0069<br>Days Connected: N/A",
          "Roberto Assunção ∴<br>Company: N/A<br>Degree Centrality: 0.0069<br>Days Connected: N/A",
          "Jéssica Burchert Vilas Boas Porcel<br>Company: N/A<br>Degree Centrality: 0.0139<br>Days Connected: N/A",
          "Andre Cabelleira<br>Company: N/A<br>Degree Centrality: 0.0069<br>Days Connected: N/A",
          "Francisco Meneses<br>Company: N/A<br>Degree Centrality: 0.0069<br>Days Connected: N/A",
          "Danilo Augusto<br>Company: N/A<br>Degree Centrality: 0.0069<br>Days Connected: N/A",
          "Adelson Silva<br>Company: N/A<br>Degree Centrality: 0.0069<br>Days Connected: N/A",
          "Douglas Bunder<br>Company: N/A<br>Degree Centrality: 0.0069<br>Days Connected: N/A",
          "Joseli Zagui<br>Company: N/A<br>Degree Centrality: 0.0069<br>Days Connected: N/A",
          "Daniel Braz<br>Company: N/A<br>Degree Centrality: 0.0069<br>Days Connected: N/A",
          "Misael de Lima<br>Company: N/A<br>Degree Centrality: 0.0069<br>Days Connected: N/A",
          "Erica Paganelli<br>Company: N/A<br>Degree Centrality: 0.0139<br>Days Connected: N/A",
          "PAREJO ADVOCACIA EMPRESARIAL E SECURITÁRIA<br>Company: N/A<br>Degree Centrality: 0.0139<br>Days Connected: N/A",
          "Bruno Lourenco Sabino<br>Company: N/A<br>Degree Centrality: 0.0069<br>Days Connected: N/A",
          "Edison Pichirillo<br>Company: N/A<br>Degree Centrality: 0.0069<br>Days Connected: N/A",
          "Fellipe Costa<br>Company: N/A<br>Degree Centrality: 0.0069<br>Days Connected: N/A",
          "Paulo Alves<br>Company: N/A<br>Degree Centrality: 0.0208<br>Days Connected: N/A",
          "Leandro Cruz<br>Company: N/A<br>Degree Centrality: 0.0208<br>Days Connected: N/A",
          "Fernando Valentim<br>Company: N/A<br>Degree Centrality: 0.0278<br>Days Connected: N/A",
          "Juliana M. Irani<br>Company: N/A<br>Degree Centrality: 0.0069<br>Days Connected: N/A",
          "Caroline Costa<br>Company: N/A<br>Degree Centrality: 0.0139<br>Days Connected: N/A",
          "Ricardo Ortega<br>Company: N/A<br>Degree Centrality: 0.0208<br>Days Connected: N/A",
          "Glaucia Vieira<br>Company: N/A<br>Degree Centrality: 0.0208<br>Days Connected: N/A",
          "TRAZÍBULO CALDEIRA<br>Company: N/A<br>Degree Centrality: 0.0139<br>Days Connected: N/A",
          "Glauco Rodrigues de Oliveira<br>Company: N/A<br>Degree Centrality: 0.0069<br>Days Connected: N/A",
          "Ana Beatris Andrade Dias<br>Company: N/A<br>Degree Centrality: 0.0069<br>Days Connected: N/A",
          "Luis Fernando de Miranda<br>Company: N/A<br>Degree Centrality: 0.0069<br>Days Connected: N/A",
          "Gustavo Borges<br>Company: N/A<br>Degree Centrality: 0.0069<br>Days Connected: N/A",
          "Patricia Corrêa Barbosa<br>Company: N/A<br>Degree Centrality: 0.0069<br>Days Connected: N/A",
          "Humberto Oliveira Jr.<br>Company: N/A<br>Degree Centrality: 0.0069<br>Days Connected: N/A",
          "Murilo Decnop<br>Company: N/A<br>Degree Centrality: 0.0069<br>Days Connected: N/A",
          "Wanderlei Borges<br>Company: N/A<br>Degree Centrality: 0.0069<br>Days Connected: N/A",
          "Diego Xavier Nunes<br>Company: N/A<br>Degree Centrality: 0.0069<br>Days Connected: N/A",
          "Vagner Asevedo<br>Company: N/A<br>Degree Centrality: 0.0069<br>Days Connected: N/A",
          "Cristiane Vieira<br>Company: N/A<br>Degree Centrality: 0.0069<br>Days Connected: N/A",
          "FENIX VISTORIA REGULAÇÃO DE SINISTRO<br>Company: N/A<br>Degree Centrality: 0.0069<br>Days Connected: N/A",
          "General Claims<br>Company: N/A<br>Degree Centrality: 0.0278<br>Days Connected: N/A",
          "Edecio de Mattos<br>Company: N/A<br>Degree Centrality: 0.0069<br>Days Connected: N/A",
          "Carlos Alberto Bolandim<br>Company: N/A<br>Degree Centrality: 0.0069<br>Days Connected: N/A",
          "FIDEM - Soluções em Sinistros<br>Company: N/A<br>Degree Centrality: 0.0069<br>Days Connected: N/A",
          "Tony Bittencourt Pazeto<br>Company: N/A<br>Degree Centrality: 0.0069<br>Days Connected: N/A",
          "Renato Vichinsky .'.<br>Company: N/A<br>Degree Centrality: 0.0069<br>Days Connected: N/A",
          "Carla Ramos<br>Company: N/A<br>Degree Centrality: 0.0069<br>Days Connected: N/A",
          "Luiz Savoia<br>Company: N/A<br>Degree Centrality: 0.0069<br>Days Connected: N/A",
          "Genivaldo Soares Silva<br>Company: N/A<br>Degree Centrality: 0.0069<br>Days Connected: N/A",
          "Carlos Automovel<br>Company: N/A<br>Degree Centrality: 0.0069<br>Days Connected: N/A",
          "Marie Velez<br>Company: N/A<br>Degree Centrality: 0.0139<br>Days Connected: N/A",
          "Abel Tavares<br>Company: N/A<br>Degree Centrality: 0.0625<br>Days Connected: N/A",
          "Liam Brannigan<br>Company: N/A<br>Degree Centrality: 0.0069<br>Days Connected: N/A",
          "Walter Pereira<br>Company: N/A<br>Degree Centrality: 0.0069<br>Days Connected: N/A",
          "Guilherme Sampaio<br>Company: N/A<br>Degree Centrality: 0.0208<br>Days Connected: N/A",
          "Fox Regulação Auditoria.’.<br>Company: N/A<br>Degree Centrality: 0.0139<br>Days Connected: N/A",
          "Abraão Diniz<br>Company: N/A<br>Degree Centrality: 0.1042<br>Days Connected: N/A",
          "Leandro de Freitas Zambolim<br>Company: N/A<br>Degree Centrality: 0.0139<br>Days Connected: N/A",
          "Steven Pompilha<br>Company: N/A<br>Degree Centrality: 0.0069<br>Days Connected: N/A",
          "Bianca Gomes<br>Company: N/A<br>Degree Centrality: 0.0139<br>Days Connected: N/A",
          "Bruno Garcia<br>Company: N/A<br>Degree Centrality: 0.1181<br>Days Connected: N/A",
          "Felipe Lazarini<br>Company: N/A<br>Degree Centrality: 0.0139<br>Days Connected: N/A",
          "Alex Lima<br>Company: N/A<br>Degree Centrality: 0.0139<br>Days Connected: N/A",
          "Daniele Paula dos Santos<br>Company: N/A<br>Degree Centrality: 0.0139<br>Days Connected: N/A",
          "Lucas Oliveira<br>Company: N/A<br>Degree Centrality: 0.0139<br>Days Connected: N/A",
          "Fernando Henrique Visentin<br>Company: N/A<br>Degree Centrality: 0.0139<br>Days Connected: N/A",
          "Daniel Dacal<br>Company: N/A<br>Degree Centrality: 0.0069<br>Days Connected: N/A",
          "Gui Yoshioka<br>Company: N/A<br>Degree Centrality: 0.0069<br>Days Connected: N/A",
          "IGOR RIBEIRO<br>Company: N/A<br>Degree Centrality: 0.0069<br>Days Connected: N/A",
          "Isabelle Lucena<br>Company: N/A<br>Degree Centrality: 0.0069<br>Days Connected: N/A",
          "Jaqueline Da Silva Biano<br>Company: N/A<br>Degree Centrality: 0.0069<br>Days Connected: N/A",
          "Jose Goggi<br>Company: N/A<br>Degree Centrality: 0.1250<br>Days Connected: N/A",
          "José Mendes da Silva Junior<br>Company: N/A<br>Degree Centrality: 0.0069<br>Days Connected: N/A",
          "João Carlos Poloniato<br>Company: N/A<br>Degree Centrality: 0.0069<br>Days Connected: N/A",
          "Paulo Sérgio Silva Leite<br>Company: N/A<br>Degree Centrality: 0.0069<br>Days Connected: N/A",
          "Karen Fernandes M. Beltran<br>Company: N/A<br>Degree Centrality: 0.0625<br>Days Connected: N/A",
          "Karen Ribeiro<br>Company: N/A<br>Degree Centrality: 0.0069<br>Days Connected: N/A",
          "Leonardo BENINI<br>Company: N/A<br>Degree Centrality: 0.0069<br>Days Connected: N/A",
          "Luiz Fernando Martello Diola<br>Company: N/A<br>Degree Centrality: 0.0069<br>Days Connected: N/A"
         ],
         "type": "scatter",
         "x": [
          0.0016488370041791152,
          0.13584850025864997,
          0.1699471402011681,
          0.051429572066068005,
          0.08783416340562009,
          -0.006423431241651065,
          -0.21467474589524957,
          0.2065441576677642,
          0.22678368428761614,
          -0.13052784715083235,
          -0.22813702125679292,
          0.04620164976568132,
          -0.1555077072327791,
          -0.1884261010883448,
          -0.17468493856590545,
          -0.15206742157647848,
          -0.026073153345449983,
          0.012819844922184088,
          -0.06749571445503721,
          -0.3531482718884664,
          -0.5064635916083083,
          -0.5495183992533559,
          -0.6013274634587951,
          -0.36013246479919325,
          -0.7171243455652907,
          -0.4425510437394095,
          -0.6033777288145208,
          -0.6540774449259558,
          -0.7265078885633038,
          -0.47994027083238744,
          -0.6965778247659095,
          -0.4161873545037944,
          -0.3988306530251919,
          -0.665779895659432,
          -0.26916539272044615,
          -0.6587830949723494,
          -0.6789759527350789,
          -0.5438956892867702,
          -0.32019510699452697,
          -0.29973977129862683,
          -0.615588851248186,
          -0.5871924221395078,
          0.19149505466832253,
          -0.08531607538285609,
          -0.5007073743200384,
          -0.5895290533196677,
          -0.2320096447053978,
          -0.05213062111000347,
          -0.42522251117495324,
          0.15760833798860782,
          -0.21918367847710032,
          -0.43928338964338726,
          -0.3133140085879263,
          -0.42368064865246574,
          -0.45682197473082325,
          -0.2578094211067718,
          -0.19101608529725547,
          -0.4521691439633315,
          -0.11278255438485185,
          -0.276096764651956,
          0.18620419134403746,
          0.2458088283505604,
          -0.29850372662088764,
          -0.22763749958811663,
          -0.06171903435702141,
          0.3008984985450562,
          0.08106564795964515,
          0.20672032524858597,
          0.14988260513572502,
          0.24967994714111252,
          -0.30598163385331084,
          -0.22373712085972555,
          0.21089647745275586,
          -0.3654735468124287,
          0.0284622495271961,
          -0.038607574429900114,
          0.11840609443995251,
          0.07902008983509042,
          0.0701717676668456,
          -0.29964261338961645,
          -0.14388426104508084,
          0.3342182641993978,
          0.3120701827889333,
          0.1494035178315096,
          0.007760806432605237,
          -0.34193802646056554,
          0.41680898695244295,
          0.4035547347212254,
          0.3834342500857151,
          -0.057672994475854604,
          0.145140483118318,
          0.211196545378847,
          0.2372312998510069,
          0.09261078150121776,
          -0.14873475034369657,
          -0.37153974082220576,
          -0.04022503183966626,
          -0.40686744987534085,
          -0.3897279491975294,
          -0.22142929555205518,
          -0.2609161066743952,
          -0.1428347826047471,
          0.018901377193009508,
          -0.3240414566791904,
          0.20783892782965496,
          -0.36176705512264873,
          0.3122228944264263,
          -0.22219230421367836,
          0.0807127844037981,
          -0.13693335682857627,
          -0.11118075280662466,
          0.0845898174618145,
          -0.31982567559908426,
          0.17798245188502157,
          -0.39457929191405466,
          -0.19721416430040695,
          0.1636274334211952,
          0.5247634372500884,
          0.8330392928424718,
          0.7896872917947755,
          0.7476571148726985,
          0.5903041849980032,
          0.6367770466019991,
          0.8344681419187436,
          1,
          0.8803228327335323,
          0.6371320559611151,
          0.8389583531155772,
          0.8791631258619552,
          0.8325177393318519,
          0.8494552841135584,
          0.8916489686846131,
          0.9953294246636055,
          0.13466429999794813,
          0.24753520346952637,
          0.20052012882020329,
          0.2904595044089485,
          0.29882707705373507,
          0.5712489961473987,
          0.5636947153271072,
          0.5080192858655362,
          0.4104789452511035,
          0.7093148967187023,
          0.6094756309948487,
          0.6708329672183041
         ],
         "y": [
          0.5513600192616328,
          0.8909417820632982,
          0.8327972406396464,
          0.9035436335393301,
          0.8376513607889184,
          0.8728036638326423,
          0.7115317783412138,
          0.13410728547851372,
          0.809455238296954,
          0.7151276325894242,
          0.6507237978151423,
          0.3408293599108339,
          0.6598670101468722,
          0.5961720815646864,
          0.7524798847475987,
          0.22170868794680884,
          0.14641083478989791,
          0.14183663220116638,
          0.14946075708274115,
          0.5396827995324505,
          0.6820569020740049,
          0.8752258763817825,
          0.5069801020669035,
          0.8109677534365884,
          0.6722180728245627,
          0.7667632401310209,
          0.8337972479534138,
          0.6965303289669756,
          0.5851115648172728,
          0.8894873910125274,
          0.5215538034896627,
          0.9218172061181954,
          0.8626248397958163,
          0.6117022678453846,
          0.12374052366068433,
          0.46027960226420117,
          0.7612818409575733,
          0.7575494563176631,
          0.8862764732445398,
          0.10175832817674361,
          0.7726120090518064,
          0.6687397421633132,
          0.10453400770654564,
          0.10472202096355242,
          0.8218516974000236,
          0.5851783054139987,
          0.13007062332667152,
          -0.3278691640805035,
          -0.5286390552093476,
          -0.5204551862023461,
          -0.5354888868313884,
          -0.285514734325038,
          -0.5245368276563089,
          -0.46728846272502894,
          -0.4180564209223802,
          -0.6472531548906709,
          -0.6520106189683417,
          -0.3492801827814028,
          -0.6439165456400466,
          -0.5841686299589571,
          -0.5893105610768845,
          -0.5033648390935673,
          -0.155423001729654,
          -0.22658436400980003,
          -0.5158227088494158,
          -0.2700981079694268,
          -0.10919591525307402,
          -0.2190241375519184,
          -0.16774963793977174,
          -0.573037219723041,
          -0.25876418891489233,
          -0.32806110001099353,
          -0.2749295798281691,
          -0.48330041057272305,
          -0.6435185807766969,
          -0.6887542448094609,
          -0.6223977190270888,
          -0.4457730949550409,
          -0.7406079294700351,
          -0.4415138396005623,
          -0.758036839629687,
          -0.4186816114656025,
          -0.3724470967564241,
          -0.6912551923614048,
          -0.7358803142702045,
          -0.6076316804543175,
          -0.2019215673941883,
          -0.16907500639711442,
          -0.12326150666008209,
          -0.7600279093904206,
          -0.23201477096448353,
          -0.04844025521560821,
          -0.08789457833574986,
          -0.1645219315573167,
          -0.5782678631761635,
          -0.29687011688445164,
          -0.6067996560220259,
          -0.22379918946083024,
          -0.38755978716830786,
          -0.42726910721147426,
          -0.7124854731537109,
          -0.4772655374300493,
          -0.523044131059996,
          -0.6685135107839468,
          -0.6493711680287976,
          -0.1763688011736076,
          -0.1405973669598532,
          -0.13282867545802782,
          -0.5640941746486806,
          -0.17782709644774652,
          -0.7091429536896912,
          -0.6825439542209514,
          -0.3602819379863042,
          -0.4465832000107009,
          -0.5835301896391019,
          -0.7242373535452652,
          -0.02834542120456289,
          -0.25363632082430787,
          -0.4138065352381829,
          -0.4786561980689396,
          -0.17713751950128143,
          -0.15366279160589416,
          -0.002088793336948779,
          0.05041666297226399,
          0.06395991977496632,
          0.07163040666875693,
          -0.029521754606161306,
          -0.030547623052147026,
          -0.07505870378705713,
          0.12242041115951685,
          -0.12516431378817056,
          -0.0031014603000633374,
          -0.1081615077491204,
          0.599028673796751,
          0.5773146753386161,
          0.6162901342625734,
          0.5349731775500567,
          -0.03598876545877025,
          0.07717621130751766,
          0.1461358291741858,
          0.1972297305841821,
          0.1449573852846099,
          0.3204256564881615,
          0.40633336737931464,
          0.37474331501520386
         ]
        }
       ],
       "layout": {
        "hovermode": "closest",
        "margin": {
         "b": 0,
         "l": 0,
         "r": 0,
         "t": 40
        },
        "showlegend": false,
        "template": {
         "data": {
          "bar": [
           {
            "error_x": {
             "color": "#2a3f5f"
            },
            "error_y": {
             "color": "#2a3f5f"
            },
            "marker": {
             "line": {
              "color": "#E5ECF6",
              "width": 0.5
             },
             "pattern": {
              "fillmode": "overlay",
              "size": 10,
              "solidity": 0.2
             }
            },
            "type": "bar"
           }
          ],
          "barpolar": [
           {
            "marker": {
             "line": {
              "color": "#E5ECF6",
              "width": 0.5
             },
             "pattern": {
              "fillmode": "overlay",
              "size": 10,
              "solidity": 0.2
             }
            },
            "type": "barpolar"
           }
          ],
          "carpet": [
           {
            "aaxis": {
             "endlinecolor": "#2a3f5f",
             "gridcolor": "white",
             "linecolor": "white",
             "minorgridcolor": "white",
             "startlinecolor": "#2a3f5f"
            },
            "baxis": {
             "endlinecolor": "#2a3f5f",
             "gridcolor": "white",
             "linecolor": "white",
             "minorgridcolor": "white",
             "startlinecolor": "#2a3f5f"
            },
            "type": "carpet"
           }
          ],
          "choropleth": [
           {
            "colorbar": {
             "outlinewidth": 0,
             "ticks": ""
            },
            "type": "choropleth"
           }
          ],
          "contour": [
           {
            "colorbar": {
             "outlinewidth": 0,
             "ticks": ""
            },
            "colorscale": [
             [
              0,
              "#0d0887"
             ],
             [
              0.1111111111111111,
              "#46039f"
             ],
             [
              0.2222222222222222,
              "#7201a8"
             ],
             [
              0.3333333333333333,
              "#9c179e"
             ],
             [
              0.4444444444444444,
              "#bd3786"
             ],
             [
              0.5555555555555556,
              "#d8576b"
             ],
             [
              0.6666666666666666,
              "#ed7953"
             ],
             [
              0.7777777777777778,
              "#fb9f3a"
             ],
             [
              0.8888888888888888,
              "#fdca26"
             ],
             [
              1,
              "#f0f921"
             ]
            ],
            "type": "contour"
           }
          ],
          "contourcarpet": [
           {
            "colorbar": {
             "outlinewidth": 0,
             "ticks": ""
            },
            "type": "contourcarpet"
           }
          ],
          "heatmap": [
           {
            "colorbar": {
             "outlinewidth": 0,
             "ticks": ""
            },
            "colorscale": [
             [
              0,
              "#0d0887"
             ],
             [
              0.1111111111111111,
              "#46039f"
             ],
             [
              0.2222222222222222,
              "#7201a8"
             ],
             [
              0.3333333333333333,
              "#9c179e"
             ],
             [
              0.4444444444444444,
              "#bd3786"
             ],
             [
              0.5555555555555556,
              "#d8576b"
             ],
             [
              0.6666666666666666,
              "#ed7953"
             ],
             [
              0.7777777777777778,
              "#fb9f3a"
             ],
             [
              0.8888888888888888,
              "#fdca26"
             ],
             [
              1,
              "#f0f921"
             ]
            ],
            "type": "heatmap"
           }
          ],
          "heatmapgl": [
           {
            "colorbar": {
             "outlinewidth": 0,
             "ticks": ""
            },
            "colorscale": [
             [
              0,
              "#0d0887"
             ],
             [
              0.1111111111111111,
              "#46039f"
             ],
             [
              0.2222222222222222,
              "#7201a8"
             ],
             [
              0.3333333333333333,
              "#9c179e"
             ],
             [
              0.4444444444444444,
              "#bd3786"
             ],
             [
              0.5555555555555556,
              "#d8576b"
             ],
             [
              0.6666666666666666,
              "#ed7953"
             ],
             [
              0.7777777777777778,
              "#fb9f3a"
             ],
             [
              0.8888888888888888,
              "#fdca26"
             ],
             [
              1,
              "#f0f921"
             ]
            ],
            "type": "heatmapgl"
           }
          ],
          "histogram": [
           {
            "marker": {
             "pattern": {
              "fillmode": "overlay",
              "size": 10,
              "solidity": 0.2
             }
            },
            "type": "histogram"
           }
          ],
          "histogram2d": [
           {
            "colorbar": {
             "outlinewidth": 0,
             "ticks": ""
            },
            "colorscale": [
             [
              0,
              "#0d0887"
             ],
             [
              0.1111111111111111,
              "#46039f"
             ],
             [
              0.2222222222222222,
              "#7201a8"
             ],
             [
              0.3333333333333333,
              "#9c179e"
             ],
             [
              0.4444444444444444,
              "#bd3786"
             ],
             [
              0.5555555555555556,
              "#d8576b"
             ],
             [
              0.6666666666666666,
              "#ed7953"
             ],
             [
              0.7777777777777778,
              "#fb9f3a"
             ],
             [
              0.8888888888888888,
              "#fdca26"
             ],
             [
              1,
              "#f0f921"
             ]
            ],
            "type": "histogram2d"
           }
          ],
          "histogram2dcontour": [
           {
            "colorbar": {
             "outlinewidth": 0,
             "ticks": ""
            },
            "colorscale": [
             [
              0,
              "#0d0887"
             ],
             [
              0.1111111111111111,
              "#46039f"
             ],
             [
              0.2222222222222222,
              "#7201a8"
             ],
             [
              0.3333333333333333,
              "#9c179e"
             ],
             [
              0.4444444444444444,
              "#bd3786"
             ],
             [
              0.5555555555555556,
              "#d8576b"
             ],
             [
              0.6666666666666666,
              "#ed7953"
             ],
             [
              0.7777777777777778,
              "#fb9f3a"
             ],
             [
              0.8888888888888888,
              "#fdca26"
             ],
             [
              1,
              "#f0f921"
             ]
            ],
            "type": "histogram2dcontour"
           }
          ],
          "mesh3d": [
           {
            "colorbar": {
             "outlinewidth": 0,
             "ticks": ""
            },
            "type": "mesh3d"
           }
          ],
          "parcoords": [
           {
            "line": {
             "colorbar": {
              "outlinewidth": 0,
              "ticks": ""
             }
            },
            "type": "parcoords"
           }
          ],
          "pie": [
           {
            "automargin": true,
            "type": "pie"
           }
          ],
          "scatter": [
           {
            "fillpattern": {
             "fillmode": "overlay",
             "size": 10,
             "solidity": 0.2
            },
            "type": "scatter"
           }
          ],
          "scatter3d": [
           {
            "line": {
             "colorbar": {
              "outlinewidth": 0,
              "ticks": ""
             }
            },
            "marker": {
             "colorbar": {
              "outlinewidth": 0,
              "ticks": ""
             }
            },
            "type": "scatter3d"
           }
          ],
          "scattercarpet": [
           {
            "marker": {
             "colorbar": {
              "outlinewidth": 0,
              "ticks": ""
             }
            },
            "type": "scattercarpet"
           }
          ],
          "scattergeo": [
           {
            "marker": {
             "colorbar": {
              "outlinewidth": 0,
              "ticks": ""
             }
            },
            "type": "scattergeo"
           }
          ],
          "scattergl": [
           {
            "marker": {
             "colorbar": {
              "outlinewidth": 0,
              "ticks": ""
             }
            },
            "type": "scattergl"
           }
          ],
          "scattermapbox": [
           {
            "marker": {
             "colorbar": {
              "outlinewidth": 0,
              "ticks": ""
             }
            },
            "type": "scattermapbox"
           }
          ],
          "scatterpolar": [
           {
            "marker": {
             "colorbar": {
              "outlinewidth": 0,
              "ticks": ""
             }
            },
            "type": "scatterpolar"
           }
          ],
          "scatterpolargl": [
           {
            "marker": {
             "colorbar": {
              "outlinewidth": 0,
              "ticks": ""
             }
            },
            "type": "scatterpolargl"
           }
          ],
          "scatterternary": [
           {
            "marker": {
             "colorbar": {
              "outlinewidth": 0,
              "ticks": ""
             }
            },
            "type": "scatterternary"
           }
          ],
          "surface": [
           {
            "colorbar": {
             "outlinewidth": 0,
             "ticks": ""
            },
            "colorscale": [
             [
              0,
              "#0d0887"
             ],
             [
              0.1111111111111111,
              "#46039f"
             ],
             [
              0.2222222222222222,
              "#7201a8"
             ],
             [
              0.3333333333333333,
              "#9c179e"
             ],
             [
              0.4444444444444444,
              "#bd3786"
             ],
             [
              0.5555555555555556,
              "#d8576b"
             ],
             [
              0.6666666666666666,
              "#ed7953"
             ],
             [
              0.7777777777777778,
              "#fb9f3a"
             ],
             [
              0.8888888888888888,
              "#fdca26"
             ],
             [
              1,
              "#f0f921"
             ]
            ],
            "type": "surface"
           }
          ],
          "table": [
           {
            "cells": {
             "fill": {
              "color": "#EBF0F8"
             },
             "line": {
              "color": "white"
             }
            },
            "header": {
             "fill": {
              "color": "#C8D4E3"
             },
             "line": {
              "color": "white"
             }
            },
            "type": "table"
           }
          ]
         },
         "layout": {
          "annotationdefaults": {
           "arrowcolor": "#2a3f5f",
           "arrowhead": 0,
           "arrowwidth": 1
          },
          "autotypenumbers": "strict",
          "coloraxis": {
           "colorbar": {
            "outlinewidth": 0,
            "ticks": ""
           }
          },
          "colorscale": {
           "diverging": [
            [
             0,
             "#8e0152"
            ],
            [
             0.1,
             "#c51b7d"
            ],
            [
             0.2,
             "#de77ae"
            ],
            [
             0.3,
             "#f1b6da"
            ],
            [
             0.4,
             "#fde0ef"
            ],
            [
             0.5,
             "#f7f7f7"
            ],
            [
             0.6,
             "#e6f5d0"
            ],
            [
             0.7,
             "#b8e186"
            ],
            [
             0.8,
             "#7fbc41"
            ],
            [
             0.9,
             "#4d9221"
            ],
            [
             1,
             "#276419"
            ]
           ],
           "sequential": [
            [
             0,
             "#0d0887"
            ],
            [
             0.1111111111111111,
             "#46039f"
            ],
            [
             0.2222222222222222,
             "#7201a8"
            ],
            [
             0.3333333333333333,
             "#9c179e"
            ],
            [
             0.4444444444444444,
             "#bd3786"
            ],
            [
             0.5555555555555556,
             "#d8576b"
            ],
            [
             0.6666666666666666,
             "#ed7953"
            ],
            [
             0.7777777777777778,
             "#fb9f3a"
            ],
            [
             0.8888888888888888,
             "#fdca26"
            ],
            [
             1,
             "#f0f921"
            ]
           ],
           "sequentialminus": [
            [
             0,
             "#0d0887"
            ],
            [
             0.1111111111111111,
             "#46039f"
            ],
            [
             0.2222222222222222,
             "#7201a8"
            ],
            [
             0.3333333333333333,
             "#9c179e"
            ],
            [
             0.4444444444444444,
             "#bd3786"
            ],
            [
             0.5555555555555556,
             "#d8576b"
            ],
            [
             0.6666666666666666,
             "#ed7953"
            ],
            [
             0.7777777777777778,
             "#fb9f3a"
            ],
            [
             0.8888888888888888,
             "#fdca26"
            ],
            [
             1,
             "#f0f921"
            ]
           ]
          },
          "colorway": [
           "#636efa",
           "#EF553B",
           "#00cc96",
           "#ab63fa",
           "#FFA15A",
           "#19d3f3",
           "#FF6692",
           "#B6E880",
           "#FF97FF",
           "#FECB52"
          ],
          "font": {
           "color": "#2a3f5f"
          },
          "geo": {
           "bgcolor": "white",
           "lakecolor": "white",
           "landcolor": "#E5ECF6",
           "showlakes": true,
           "showland": true,
           "subunitcolor": "white"
          },
          "hoverlabel": {
           "align": "left"
          },
          "hovermode": "closest",
          "mapbox": {
           "style": "light"
          },
          "paper_bgcolor": "white",
          "plot_bgcolor": "#E5ECF6",
          "polar": {
           "angularaxis": {
            "gridcolor": "white",
            "linecolor": "white",
            "ticks": ""
           },
           "bgcolor": "#E5ECF6",
           "radialaxis": {
            "gridcolor": "white",
            "linecolor": "white",
            "ticks": ""
           }
          },
          "scene": {
           "xaxis": {
            "backgroundcolor": "#E5ECF6",
            "gridcolor": "white",
            "gridwidth": 2,
            "linecolor": "white",
            "showbackground": true,
            "ticks": "",
            "zerolinecolor": "white"
           },
           "yaxis": {
            "backgroundcolor": "#E5ECF6",
            "gridcolor": "white",
            "gridwidth": 2,
            "linecolor": "white",
            "showbackground": true,
            "ticks": "",
            "zerolinecolor": "white"
           },
           "zaxis": {
            "backgroundcolor": "#E5ECF6",
            "gridcolor": "white",
            "gridwidth": 2,
            "linecolor": "white",
            "showbackground": true,
            "ticks": "",
            "zerolinecolor": "white"
           }
          },
          "shapedefaults": {
           "line": {
            "color": "#2a3f5f"
           }
          },
          "ternary": {
           "aaxis": {
            "gridcolor": "white",
            "linecolor": "white",
            "ticks": ""
           },
           "baxis": {
            "gridcolor": "white",
            "linecolor": "white",
            "ticks": ""
           },
           "bgcolor": "#E5ECF6",
           "caxis": {
            "gridcolor": "white",
            "linecolor": "white",
            "ticks": ""
           }
          },
          "title": {
           "x": 0.05
          },
          "xaxis": {
           "automargin": true,
           "gridcolor": "white",
           "linecolor": "white",
           "ticks": "",
           "title": {
            "standoff": 15
           },
           "zerolinecolor": "white",
           "zerolinewidth": 2
          },
          "yaxis": {
           "automargin": true,
           "gridcolor": "white",
           "linecolor": "white",
           "ticks": "",
           "title": {
            "standoff": 15
           },
           "zerolinecolor": "white",
           "zerolinewidth": 2
          }
         }
        },
        "title": {
         "font": {
          "size": 16
         },
         "text": "Final Interactive Graph with Key Hubs Highlighted"
        },
        "xaxis": {
         "showgrid": false,
         "zeroline": false
        },
        "yaxis": {
         "showgrid": false,
         "zeroline": false
        }
       }
      }
     },
     "metadata": {},
     "output_type": "display_data"
    }
   ],
   "source": [
    "visualize_graph_interactive(graph, degree_centrality, title=\"Final Interactive Graph with Key Hubs Highlighted\")"
   ]
  }
 ],
 "metadata": {
  "kernelspec": {
   "display_name": "small-world-linkedin-1bLGJuOL-py3.11",
   "language": "python",
   "name": "python3"
  },
  "language_info": {
   "codemirror_mode": {
    "name": "ipython",
    "version": 3
   },
   "file_extension": ".py",
   "mimetype": "text/x-python",
   "name": "python",
   "nbconvert_exporter": "python",
   "pygments_lexer": "ipython3",
   "version": "3.11.9"
  }
 },
 "nbformat": 4,
 "nbformat_minor": 2
}
