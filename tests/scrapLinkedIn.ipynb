{
 "cells": [
  {
   "cell_type": "markdown",
   "metadata": {},
   "source": [
    "# IMPORTA BIBLIOTECAS"
   ]
  },
  {
   "cell_type": "code",
   "execution_count": 1,
   "metadata": {},
   "outputs": [],
   "source": [
    "import time\n",
    "import json\n",
    "import pandas as pd\n",
    "from datetime import datetime\n",
    "\n",
    "from selenium import webdriver\n",
    "from selenium.webdriver.common.by import By\n",
    "from selenium.webdriver.common.keys import Keys\n",
    "from selenium.webdriver.chrome.service import Service\n",
    "from selenium.webdriver.chrome.options import Options\n",
    "from selenium.webdriver.support.ui import WebDriverWait\n",
    "from selenium.webdriver.support import expected_conditions as EC\n",
    "from selenium.common.exceptions import TimeoutException, NoSuchElementException\n",
    "\n",
    "\n",
    "from webdriver_manager.chrome import ChromeDriverManager\n",
    "from dotenv import load_dotenv\n",
    "import os"
   ]
  },
  {
   "cell_type": "code",
   "execution_count": 2,
   "metadata": {},
   "outputs": [],
   "source": [
    "# Carregar credenciais do arquivo .env\n",
    "load_dotenv()\n",
    "LINKEDIN_EMAIL = os.getenv(\"LINKEDIN_EMAIL\")\n",
    "LINKEDIN_PASSWORD = os.getenv(\"LINKEDIN_PASSWORD\")"
   ]
  },
  {
   "cell_type": "markdown",
   "metadata": {},
   "source": [
    "# CONFIGURAÇÃO DO AMBIENTE"
   ]
  },
  {
   "cell_type": "code",
   "execution_count": 3,
   "metadata": {},
   "outputs": [],
   "source": [
    "# Configuração do Selenium\n",
    "def setup_driver():\n",
    "    options = Options()\n",
    "    options.add_argument(\"--start-maximized\")\n",
    "    options.add_argument(\"--disable-notifications\")\n",
    "    service = Service(ChromeDriverManager().install())\n",
    "    driver = webdriver.Chrome(service=service, options=options)\n",
    "    return driver"
   ]
  },
  {
   "cell_type": "code",
   "execution_count": 4,
   "metadata": {},
   "outputs": [],
   "source": [
    "# Autenticar no LinkedIn\n",
    "def linkedin_login(driver):\n",
    "    driver.get(\"https://www.linkedin.com/login\")\n",
    "    time.sleep(2)\n",
    "\n",
    "    email_field = driver.find_element(By.ID, \"username\")\n",
    "    password_field = driver.find_element(By.ID, \"password\")\n",
    "\n",
    "    email_field.send_keys(LINKEDIN_EMAIL)\n",
    "    password_field.send_keys(LINKEDIN_PASSWORD)\n",
    "    password_field.send_keys(\"\\ue007\")  # Pressionar Enter\n",
    "    time.sleep(3)\n"
   ]
  },
  {
   "cell_type": "code",
   "execution_count": 5,
   "metadata": {},
   "outputs": [],
   "source": [
    "# Adicionar rolagem na página\n",
    "def scroll_down(driver):\n",
    "    driver.execute_script(\"window.scrollBy(0, 300);\")\n",
    "    time.sleep(0.5)  # Esperar um pouco para que novos elementos sejam carregados"
   ]
  },
  {
   "cell_type": "markdown",
   "metadata": {},
   "source": [
    "# PROCESSO DO SCRAPING"
   ]
  },
  {
   "cell_type": "code",
   "execution_count": 6,
   "metadata": {},
   "outputs": [],
   "source": [
    "# Extrair conexões\n",
    "def extract_connections(driver, profile_url):\n",
    "    driver.get(profile_url)\n",
    "    time.sleep(3)\n",
    "\n",
    "    extracted_data = {}\n",
    "\n",
    "    try:\n",
    "        # Clicar no link de conexões\n",
    "        WebDriverWait(driver, 10).until(\n",
    "            EC.element_to_be_clickable(\n",
    "                (\n",
    "                    By.CLASS_NAME,\n",
    "                    \"jBoWjCkDnQAudKFlfzuYKZdcceDKXE.inline-flex.align-items-center.link-without-hover-visited.pt2\",\n",
    "                )\n",
    "            )\n",
    "        ).click()\n",
    "        time.sleep(2)\n",
    "\n",
    "        # Inicializar a lista de nomes extraídos\n",
    "        names = []\n",
    "\n",
    "        while True:\n",
    "            # Extração dos nomes na página atual\n",
    "            name_elements = driver.find_elements(\n",
    "                By.CLASS_NAME,\n",
    "                \"sVERDkcTlYPzPQlJOoKTEBiRQdqFMDVxijI.KSOPGGTUwpqguKseMcspzYpZImxdaDTs \",\n",
    "            )\n",
    "            # print([name.text.split('\\n')[0] for name in name_elements if name.text])\n",
    "            names.extend(\n",
    "                [name.text.split(\"\\n\")[0] for name in name_elements if name.text]\n",
    "            )\n",
    "\n",
    "            # Tentar ir para a próxima página\n",
    "            try:\n",
    "                scroll_down(driver)\n",
    "                next_button = driver.find_element(\n",
    "                    By.XPATH, \"//button[@aria-label='Avançar']\"\n",
    "                )\n",
    "                if \"disabled\" in next_button.get_attribute(\"class\"):\n",
    "                    break  # Botão de próximo desabilitado, última página\n",
    "                next_button.click()\n",
    "                time.sleep(2)\n",
    "            except NoSuchElementException:\n",
    "                break  # Botão de próximo não encontrado, última página\n",
    "\n",
    "        # Adicionar ao dicionário de dados extraídos\n",
    "        extracted_data[profile_url] = names\n",
    "        print(\n",
    "            f\"Conexões extraídas para {profile_url}: {len(names)} conexões encontradas.\"\n",
    "        )\n",
    "\n",
    "    except Exception as e:\n",
    "        print(f\"Erro ao acessar {profile_url}: {e}\")\n",
    "\n",
    "    return extracted_data"
   ]
  },
  {
   "cell_type": "markdown",
   "metadata": {},
   "source": [
    "# CONSTRUÇÃO DO GRAFO"
   ]
  },
  {
   "cell_type": "code",
   "execution_count": 7,
   "metadata": {},
   "outputs": [],
   "source": [
    "# Iterar pelas conexões e salvar resultados em JSON\n",
    "def process_connections(file_path, output_path, driver):\n",
    "    connections_df = pd.read_csv(file_path, sep=\";\")\n",
    "    total = connections_df.shape[0]\n",
    "\n",
    "    try:\n",
    "        with open(output_path, \"r\", encoding=\"utf-8\") as json_file:\n",
    "            all_data = json.load(json_file)\n",
    "    except (FileNotFoundError, json.JSONDecodeError):\n",
    "        all_data = {}\n",
    "    \n",
    "\n",
    "    for index, row in connections_df.iterrows():\n",
    "        profile_url = row[\"URL\"]\n",
    "        # Ignorar perfis já processados\n",
    "        if profile_url in all_data:\n",
    "            print(f\"Perfil já processado: {row['First Name']} {row['Last Name']} => {profile_url}. Ignorando...\")\n",
    "            continue\n",
    "\n",
    "        print(f\"Processando {index + 1}/{total}: {row['First Name']} {row['Last Name']} => {profile_url} ==> {datetime.now()}\")\n",
    "\n",
    "        data = extract_connections(driver, profile_url)\n",
    "        all_data.update(data)\n",
    "\n",
    "        # Salvar os dados extraídos em um arquivo JSON\n",
    "        with open(output_path, \"w\", encoding=\"utf-8\") as json_file:\n",
    "            json.dump(all_data, json_file, ensure_ascii=False, indent=4)\n",
    "\n",
    "    print(f\"Dados salvos em {output_path}\")\n",
    "    return all_data"
   ]
  },
  {
   "cell_type": "markdown",
   "metadata": {},
   "source": [
    "# DEFINIÇÃO DO PIPELINE"
   ]
  },
  {
   "cell_type": "code",
   "execution_count": 8,
   "metadata": {},
   "outputs": [],
   "source": [
    "# Pipeline principal\n",
    "def run_pipeline(file_path, output_path):\n",
    "    # Configurações de entrada e saída\n",
    "    # file_path = \"Connections.csv\"  # Substitua pelo caminho correto\n",
    "    # output_path = \"extracted_connections.json\"  # Nome do arquivo de saída\n",
    "\n",
    "    print(f\"Processo Iniciado ==> {datetime.now()}\")\n",
    "    print(50 * \"==\")\n",
    "\n",
    "    # Configuração do Selenium\n",
    "    driver = setup_driver()\n",
    "    print(f\"Driver Configurado ==> {datetime.now()}\")\n",
    "    print(50 * \"==\")\n",
    "\n",
    "    # Login no LinkedIn\n",
    "    linkedin_login(driver)\n",
    "    print(f\"Login Realizado ==> {datetime.now()}\")\n",
    "    print(50 * \"==\")\n",
    "\n",
    "    # Processar conexões e salvar dados\n",
    "    all_data = process_connections(file_path, output_path, driver)\n",
    "    print(50 * \"==\")\n",
    "    \n",
    "    print(f\"Finalizado Processamento ==> {datetime.now()}\")\n",
    "    # Fechar o navegador\n",
    "    driver.quit()\n",
    "\n",
    "    return all_data"
   ]
  },
  {
   "cell_type": "markdown",
   "metadata": {},
   "source": [
    "# EXECUÇÃO DO PROCESSO"
   ]
  },
  {
   "cell_type": "code",
   "execution_count": 9,
   "metadata": {},
   "outputs": [],
   "source": [
    "# Executar no Jupyter Notebook\n",
    "file_path = (\n",
    "    \"..\\small_world_linkedin\\data\\linkedin_urls.csv\"  # Substitua pelo caminho correto\n",
    ")\n",
    "output_path = (\n",
    "    \"..\\small_world_linkedin\\data\\linkedin_graph.json\"  # Nome do arquivo de saída\n",
    ")"
   ]
  },
  {
   "cell_type": "code",
   "execution_count": null,
   "metadata": {},
   "outputs": [],
   "source": [
    "all_data = run_pipeline(file_path, output_path)"
   ]
  },
  {
   "cell_type": "code",
   "execution_count": null,
   "metadata": {},
   "outputs": [],
   "source": []
  },
  {
   "cell_type": "code",
   "execution_count": null,
   "metadata": {},
   "outputs": [],
   "source": []
  },
  {
   "cell_type": "code",
   "execution_count": null,
   "metadata": {},
   "outputs": [],
   "source": []
  },
  {
   "cell_type": "code",
   "execution_count": null,
   "metadata": {},
   "outputs": [],
   "source": []
  }
 ],
 "metadata": {
  "kernelspec": {
   "display_name": "small-world-linkedin-1bLGJuOL-py3.11",
   "language": "python",
   "name": "python3"
  },
  "language_info": {
   "codemirror_mode": {
    "name": "ipython",
    "version": 3
   },
   "file_extension": ".py",
   "mimetype": "text/x-python",
   "name": "python",
   "nbconvert_exporter": "python",
   "pygments_lexer": "ipython3",
   "version": "3.11.9"
  }
 },
 "nbformat": 4,
 "nbformat_minor": 2
}
